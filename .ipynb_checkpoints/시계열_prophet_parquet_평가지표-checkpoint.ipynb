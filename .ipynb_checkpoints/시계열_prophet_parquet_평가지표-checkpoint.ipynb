{
 "cells": [
  {
   "cell_type": "code",
   "execution_count": null,
   "metadata": {
    "colab": {
     "base_uri": "https://localhost:8080/"
    },
    "executionInfo": {
     "elapsed": 22314,
     "status": "ok",
     "timestamp": 1672204764583,
     "user": {
      "displayName": "김재민",
      "userId": "14133616262020169823"
     },
     "user_tz": -540
    },
    "id": "ebUqct8zi36c",
    "outputId": "d33dc319-f51b-496e-b0d1-499d9615d7c1"
   },
   "outputs": [
    {
     "name": "stdout",
     "output_type": "stream",
     "text": [
      "Mounted at /content/drive\n"
     ]
    }
   ],
   "source": [
    "from google import colab\n",
    "colab.drive.mount(\"/content/drive\")"
   ]
  },
  {
   "cell_type": "code",
   "execution_count": null,
   "metadata": {
    "id": "x5WODTyCEg7g"
   },
   "outputs": [],
   "source": [
    "import pandas as pd\n",
    "import pyarrow as pa\n",
    "import pyarrow.parquet as pq"
   ]
  },
  {
   "cell_type": "code",
   "execution_count": null,
   "metadata": {
    "id": "vudLo79mjH2s"
   },
   "outputs": [],
   "source": [
    "data = \"/content/drive/MyDrive/Colab Notebooks/엔지어드브/\"\n",
    "df=pd.read_csv(f'{data}서울교통공사_역별 일별 시간대별 승하차인원 정보_20220831.csv', encoding='cp949')"
   ]
  },
  {
   "cell_type": "code",
   "execution_count": null,
   "metadata": {
    "id": "3L-hs_p2B1Bm"
   },
   "outputs": [],
   "source": [
    "import timeit\n",
    "import datetime"
   ]
  },
  {
   "cell_type": "code",
   "execution_count": null,
   "metadata": {
    "id": "qIQs5XEPX7jy"
   },
   "outputs": [],
   "source": []
  },
  {
   "cell_type": "code",
   "execution_count": null,
   "metadata": {
    "id": "qZaNtLqym2ia"
   },
   "outputs": [],
   "source": [
    "df.drop(['24시이후'], axis=1, inplace=True)"
   ]
  },
  {
   "cell_type": "code",
   "execution_count": null,
   "metadata": {
    "id": "B-8v-OMLkbIq"
   },
   "outputs": [],
   "source": [
    "# 일단 호선이 하나인 역 골라서 확인해보기\n",
    "df = df.loc[df.승하차구분=='승차']"
   ]
  },
  {
   "cell_type": "code",
   "execution_count": null,
   "metadata": {
    "id": "PbTZIxKMMEpO"
   },
   "outputs": [],
   "source": [
    "df.reset_index(drop=True, inplace=True)"
   ]
  },
  {
   "cell_type": "code",
   "execution_count": null,
   "metadata": {
    "id": "Oleu7HC1qVy9"
   },
   "outputs": [],
   "source": [
    "df1 = df.copy()\n",
    "df2 = df.copy()\n",
    "df3 = df.copy()\n",
    "df4 = df.copy()\n",
    "df5 = df.copy()\n",
    "df6 = df.copy()\n",
    "df7 = df.copy()\n",
    "df8 = df.copy()\n",
    "df9 = df.copy()\n",
    "df10 = df.copy()\n",
    "df11 = df.copy()\n",
    "df12 = df.copy()\n",
    "df13 = df.copy()\n",
    "df14 = df.copy()\n",
    "df15 = df.copy()\n",
    "df16 = df.copy()\n",
    "df17 = df.copy()\n",
    "df18 = df.copy()\n",
    "df19 = df.copy()"
   ]
  },
  {
   "cell_type": "code",
   "execution_count": null,
   "metadata": {
    "id": "lxZcJbiyxkIT"
   },
   "outputs": [],
   "source": [
    "df1 = df1[['수송일자','06시이전','호선','역명']]\n",
    "df2 = df2[['수송일자','06-07시간대','호선','역명']]\n",
    "df3 = df3[['수송일자','07-08시간대','호선','역명']]\n",
    "df4 = df4[['수송일자','08-09시간대','호선','역명']]\n",
    "df5 = df5[['수송일자','09-10시간대','호선','역명']]\n",
    "df6 = df6[['수송일자','10-11시간대','호선','역명']]\n",
    "df7 = df7[['수송일자','11-12시간대','호선','역명']]\n",
    "df8 = df8[['수송일자','12-13시간대','호선','역명']]\n",
    "df9 = df9[['수송일자','13-14시간대','호선','역명']]\n",
    "df10 = df10[['수송일자','14-15시간대','호선','역명']]\n",
    "df11 = df11[['수송일자','15-16시간대','호선','역명']]\n",
    "df12 = df12[['수송일자','16-17시간대','호선','역명']]\n",
    "df13 = df13[['수송일자','17-18시간대','호선','역명']]\n",
    "df14 = df14[['수송일자','18-19시간대','호선','역명']]\n",
    "df15 = df15[['수송일자','19-20시간대','호선','역명']]\n",
    "df16 = df16[['수송일자','20-21시간대','호선','역명']]\n",
    "df17 = df17[['수송일자','21-22시간대','호선','역명']]\n",
    "df18 = df18[['수송일자','22-23시간대','호선','역명']]\n",
    "df19 = df19[['수송일자','23-24시간대','호선','역명']]"
   ]
  },
  {
   "cell_type": "code",
   "execution_count": null,
   "metadata": {
    "id": "HkooqUmFyymC"
   },
   "outputs": [],
   "source": [
    "df1.columns = ['수송일자', '인원','호선','역명']\n",
    "df2.columns = ['수송일자', '인원','호선','역명']\n",
    "df3.columns = ['수송일자', '인원','호선','역명']\n",
    "df4.columns = ['수송일자', '인원','호선','역명']\n",
    "df5.columns = ['수송일자', '인원','호선','역명']\n",
    "df6.columns = ['수송일자', '인원','호선','역명']\n",
    "df7.columns = ['수송일자', '인원','호선','역명']\n",
    "df8.columns = ['수송일자', '인원','호선','역명']\n",
    "df9.columns = ['수송일자', '인원','호선','역명']\n",
    "df10.columns = ['수송일자', '인원','호선','역명']\n",
    "df11.columns = ['수송일자', '인원','호선','역명']\n",
    "df12.columns = ['수송일자', '인원','호선','역명']\n",
    "df13.columns = ['수송일자', '인원','호선','역명']\n",
    "df14.columns = ['수송일자', '인원','호선','역명']\n",
    "df15.columns = ['수송일자', '인원','호선','역명']\n",
    "df16.columns = ['수송일자', '인원','호선','역명']\n",
    "df17.columns = ['수송일자', '인원','호선','역명']\n",
    "df18.columns = ['수송일자', '인원','호선','역명']\n",
    "df19.columns = ['수송일자', '인원','호선','역명']"
   ]
  },
  {
   "cell_type": "code",
   "execution_count": null,
   "metadata": {
    "id": "wK84OW1Lmq7N"
   },
   "outputs": [],
   "source": [
    "df1['수송일자'] = df1['수송일자'] + ' 05'\n",
    "df2['수송일자'] = df2['수송일자'] + ' 06'\n",
    "df3['수송일자'] = df3['수송일자'] + ' 07'\n",
    "df4['수송일자'] = df4['수송일자'] + ' 08'\n",
    "df5['수송일자'] = df5['수송일자'] + ' 09'\n",
    "df6['수송일자'] = df6['수송일자'] + ' 10'\n",
    "df7['수송일자'] = df7['수송일자'] + ' 11'\n",
    "df8['수송일자'] = df8['수송일자'] + ' 12'\n",
    "df9['수송일자'] = df9['수송일자'] + ' 13'\n",
    "df10['수송일자'] = df10['수송일자'] + ' 14'\n",
    "df11['수송일자'] = df11['수송일자'] + ' 15'\n",
    "df12['수송일자'] = df12['수송일자'] + ' 16'\n",
    "df13['수송일자'] = df13['수송일자'] + ' 17'\n",
    "df14['수송일자'] = df14['수송일자'] + ' 18'\n",
    "df15['수송일자'] = df15['수송일자'] + ' 19'\n",
    "df16['수송일자'] = df16['수송일자'] + ' 20'\n",
    "df17['수송일자'] = df17['수송일자'] + ' 21'\n",
    "df18['수송일자'] = df18['수송일자'] + ' 22'\n",
    "df19['수송일자'] = df19['수송일자'] + ' 23'\n",
    "\n",
    "df1['수송일자'] = df1['수송일자'].astype('datetime64')\n",
    "df2['수송일자'] = df2['수송일자'].astype('datetime64')\n",
    "df3['수송일자'] = df3['수송일자'].astype('datetime64')\n",
    "df4['수송일자'] = df4['수송일자'].astype('datetime64')\n",
    "df5['수송일자'] = df5['수송일자'].astype('datetime64')\n",
    "df6['수송일자'] = df6['수송일자'].astype('datetime64')\n",
    "df7['수송일자'] = df7['수송일자'].astype('datetime64')\n",
    "df8['수송일자'] = df8['수송일자'].astype('datetime64')\n",
    "df9['수송일자'] = df9['수송일자'].astype('datetime64')\n",
    "df10['수송일자'] = df10['수송일자'].astype('datetime64')\n",
    "df11['수송일자'] = df11['수송일자'].astype('datetime64')\n",
    "df12['수송일자'] = df12['수송일자'].astype('datetime64')\n",
    "df13['수송일자'] = df13['수송일자'].astype('datetime64')\n",
    "df14['수송일자'] = df14['수송일자'].astype('datetime64')\n",
    "df15['수송일자'] = df15['수송일자'].astype('datetime64')\n",
    "df16['수송일자'] = df16['수송일자'].astype('datetime64')\n",
    "df17['수송일자'] = df17['수송일자'].astype('datetime64')\n",
    "df18['수송일자'] = df18['수송일자'].astype('datetime64')\n",
    "df19['수송일자'] = df19['수송일자'].astype('datetime64')"
   ]
  },
  {
   "cell_type": "code",
   "execution_count": null,
   "metadata": {
    "id": "U4eY1MS-m6lt"
   },
   "outputs": [],
   "source": [
    "result = pd.concat([df1,df2,df3,df4,df5,df6,df7,df8,df9,df10,\n",
    "                    df11,df12,df13,df14,df15,df16,df17,df18,df19])"
   ]
  },
  {
   "cell_type": "code",
   "execution_count": null,
   "metadata": {
    "colab": {
     "base_uri": "https://localhost:8080/"
    },
    "executionInfo": {
     "elapsed": 298,
     "status": "ok",
     "timestamp": 1672130164599,
     "user": {
      "displayName": "김재민",
      "userId": "14133616262020169823"
     },
     "user_tz": -540
    },
    "id": "ob3cd8Y0p7rx",
    "outputId": "d3de649e-1a75-40c6-a5f2-a7082dbedd25"
   },
   "outputs": [
    {
     "name": "stdout",
     "output_type": "stream",
     "text": [
      "<class 'pandas.core.frame.DataFrame'>\n",
      "Int64Index: 1258959 entries, 0 to 66260\n",
      "Data columns (total 4 columns):\n",
      " #   Column  Non-Null Count    Dtype         \n",
      "---  ------  --------------    -----         \n",
      " 0   수송일자    1258959 non-null  datetime64[ns]\n",
      " 1   인원      1258959 non-null  int64         \n",
      " 2   호선      1258959 non-null  int64         \n",
      " 3   역명      1258959 non-null  object        \n",
      "dtypes: datetime64[ns](1), int64(2), object(1)\n",
      "memory usage: 48.0+ MB\n"
     ]
    }
   ],
   "source": [
    "result.info()"
   ]
  },
  {
   "cell_type": "code",
   "execution_count": null,
   "metadata": {
    "id": "v660HX2l0quU"
   },
   "outputs": [],
   "source": [
    "result = result.sort_values('수송일자')"
   ]
  },
  {
   "cell_type": "code",
   "execution_count": null,
   "metadata": {
    "id": "CBXb5AEjM3NU"
   },
   "outputs": [],
   "source": [
    "result = result.astype({'호선':'str'})"
   ]
  },
  {
   "cell_type": "code",
   "execution_count": null,
   "metadata": {
    "id": "5b_tZ3yIMga_"
   },
   "outputs": [],
   "source": [
    "result['역명']=result['역명'] +' '+ result['호선']"
   ]
  },
  {
   "cell_type": "code",
   "execution_count": null,
   "metadata": {
    "id": "QeeTX8vFLrcN"
   },
   "outputs": [],
   "source": [
    "from sklearn.preprocessing import LabelEncoder"
   ]
  },
  {
   "cell_type": "code",
   "execution_count": null,
   "metadata": {
    "id": "r_NAiimAMHCP"
   },
   "outputs": [],
   "source": [
    "label = LabelEncoder()\n",
    "result['역명라벨'] = label.fit_transform(result.역명)"
   ]
  },
  {
   "cell_type": "code",
   "execution_count": null,
   "metadata": {
    "colab": {
     "base_uri": "https://localhost:8080/",
     "height": 424
    },
    "executionInfo": {
     "elapsed": 339,
     "status": "ok",
     "timestamp": 1672130183693,
     "user": {
      "displayName": "김재민",
      "userId": "14133616262020169823"
     },
     "user_tz": -540
    },
    "id": "5iffVBD0Mcbn",
    "outputId": "d157d033-34b5-4cab-cf26-042ec3c730b1"
   },
   "outputs": [
    {
     "data": {
      "text/html": [
       "\n",
       "  <div id=\"df-d1565a55-5742-4fb5-b38e-6f2b18737bd4\">\n",
       "    <div class=\"colab-df-container\">\n",
       "      <div>\n",
       "<style scoped>\n",
       "    .dataframe tbody tr th:only-of-type {\n",
       "        vertical-align: middle;\n",
       "    }\n",
       "\n",
       "    .dataframe tbody tr th {\n",
       "        vertical-align: top;\n",
       "    }\n",
       "\n",
       "    .dataframe thead th {\n",
       "        text-align: right;\n",
       "    }\n",
       "</style>\n",
       "<table border=\"1\" class=\"dataframe\">\n",
       "  <thead>\n",
       "    <tr style=\"text-align: right;\">\n",
       "      <th></th>\n",
       "      <th>수송일자</th>\n",
       "      <th>인원</th>\n",
       "      <th>호선</th>\n",
       "      <th>역명</th>\n",
       "      <th>역명라벨</th>\n",
       "    </tr>\n",
       "  </thead>\n",
       "  <tbody>\n",
       "    <tr>\n",
       "      <th>0</th>\n",
       "      <td>2022-01-01 05:00:00</td>\n",
       "      <td>120</td>\n",
       "      <td>1</td>\n",
       "      <td>서울역 1</td>\n",
       "      <td>136</td>\n",
       "    </tr>\n",
       "    <tr>\n",
       "      <th>172</th>\n",
       "      <td>2022-01-01 05:00:00</td>\n",
       "      <td>21</td>\n",
       "      <td>5</td>\n",
       "      <td>하남풍산 5</td>\n",
       "      <td>262</td>\n",
       "    </tr>\n",
       "    <tr>\n",
       "      <th>173</th>\n",
       "      <td>2022-01-01 05:00:00</td>\n",
       "      <td>59</td>\n",
       "      <td>5</td>\n",
       "      <td>하남시청(덕풍·신장) 5</td>\n",
       "      <td>261</td>\n",
       "    </tr>\n",
       "    <tr>\n",
       "      <th>174</th>\n",
       "      <td>2022-01-01 05:00:00</td>\n",
       "      <td>56</td>\n",
       "      <td>5</td>\n",
       "      <td>하남검단산 5</td>\n",
       "      <td>260</td>\n",
       "    </tr>\n",
       "    <tr>\n",
       "      <th>175</th>\n",
       "      <td>2022-01-01 05:00:00</td>\n",
       "      <td>152</td>\n",
       "      <td>6</td>\n",
       "      <td>응암 6</td>\n",
       "      <td>215</td>\n",
       "    </tr>\n",
       "    <tr>\n",
       "      <th>...</th>\n",
       "      <td>...</td>\n",
       "      <td>...</td>\n",
       "      <td>...</td>\n",
       "      <td>...</td>\n",
       "      <td>...</td>\n",
       "    </tr>\n",
       "    <tr>\n",
       "      <th>66076</th>\n",
       "      <td>2022-08-31 23:00:00</td>\n",
       "      <td>68</td>\n",
       "      <td>3</td>\n",
       "      <td>대청 3</td>\n",
       "      <td>61</td>\n",
       "    </tr>\n",
       "    <tr>\n",
       "      <th>66075</th>\n",
       "      <td>2022-08-31 23:00:00</td>\n",
       "      <td>7</td>\n",
       "      <td>3</td>\n",
       "      <td>학여울 3</td>\n",
       "      <td>264</td>\n",
       "    </tr>\n",
       "    <tr>\n",
       "      <th>66074</th>\n",
       "      <td>2022-08-31 23:00:00</td>\n",
       "      <td>123</td>\n",
       "      <td>3</td>\n",
       "      <td>대치 3</td>\n",
       "      <td>62</td>\n",
       "    </tr>\n",
       "    <tr>\n",
       "      <th>66080</th>\n",
       "      <td>2022-08-31 23:00:00</td>\n",
       "      <td>48</td>\n",
       "      <td>3</td>\n",
       "      <td>경찰병원 3</td>\n",
       "      <td>15</td>\n",
       "    </tr>\n",
       "    <tr>\n",
       "      <th>66260</th>\n",
       "      <td>2022-08-31 23:00:00</td>\n",
       "      <td>67</td>\n",
       "      <td>8</td>\n",
       "      <td>남위례 8</td>\n",
       "      <td>46</td>\n",
       "    </tr>\n",
       "  </tbody>\n",
       "</table>\n",
       "<p>1258959 rows × 5 columns</p>\n",
       "</div>\n",
       "      <button class=\"colab-df-convert\" onclick=\"convertToInteractive('df-d1565a55-5742-4fb5-b38e-6f2b18737bd4')\"\n",
       "              title=\"Convert this dataframe to an interactive table.\"\n",
       "              style=\"display:none;\">\n",
       "        \n",
       "  <svg xmlns=\"http://www.w3.org/2000/svg\" height=\"24px\"viewBox=\"0 0 24 24\"\n",
       "       width=\"24px\">\n",
       "    <path d=\"M0 0h24v24H0V0z\" fill=\"none\"/>\n",
       "    <path d=\"M18.56 5.44l.94 2.06.94-2.06 2.06-.94-2.06-.94-.94-2.06-.94 2.06-2.06.94zm-11 1L8.5 8.5l.94-2.06 2.06-.94-2.06-.94L8.5 2.5l-.94 2.06-2.06.94zm10 10l.94 2.06.94-2.06 2.06-.94-2.06-.94-.94-2.06-.94 2.06-2.06.94z\"/><path d=\"M17.41 7.96l-1.37-1.37c-.4-.4-.92-.59-1.43-.59-.52 0-1.04.2-1.43.59L10.3 9.45l-7.72 7.72c-.78.78-.78 2.05 0 2.83L4 21.41c.39.39.9.59 1.41.59.51 0 1.02-.2 1.41-.59l7.78-7.78 2.81-2.81c.8-.78.8-2.07 0-2.86zM5.41 20L4 18.59l7.72-7.72 1.47 1.35L5.41 20z\"/>\n",
       "  </svg>\n",
       "      </button>\n",
       "      \n",
       "  <style>\n",
       "    .colab-df-container {\n",
       "      display:flex;\n",
       "      flex-wrap:wrap;\n",
       "      gap: 12px;\n",
       "    }\n",
       "\n",
       "    .colab-df-convert {\n",
       "      background-color: #E8F0FE;\n",
       "      border: none;\n",
       "      border-radius: 50%;\n",
       "      cursor: pointer;\n",
       "      display: none;\n",
       "      fill: #1967D2;\n",
       "      height: 32px;\n",
       "      padding: 0 0 0 0;\n",
       "      width: 32px;\n",
       "    }\n",
       "\n",
       "    .colab-df-convert:hover {\n",
       "      background-color: #E2EBFA;\n",
       "      box-shadow: 0px 1px 2px rgba(60, 64, 67, 0.3), 0px 1px 3px 1px rgba(60, 64, 67, 0.15);\n",
       "      fill: #174EA6;\n",
       "    }\n",
       "\n",
       "    [theme=dark] .colab-df-convert {\n",
       "      background-color: #3B4455;\n",
       "      fill: #D2E3FC;\n",
       "    }\n",
       "\n",
       "    [theme=dark] .colab-df-convert:hover {\n",
       "      background-color: #434B5C;\n",
       "      box-shadow: 0px 1px 3px 1px rgba(0, 0, 0, 0.15);\n",
       "      filter: drop-shadow(0px 1px 2px rgba(0, 0, 0, 0.3));\n",
       "      fill: #FFFFFF;\n",
       "    }\n",
       "  </style>\n",
       "\n",
       "      <script>\n",
       "        const buttonEl =\n",
       "          document.querySelector('#df-d1565a55-5742-4fb5-b38e-6f2b18737bd4 button.colab-df-convert');\n",
       "        buttonEl.style.display =\n",
       "          google.colab.kernel.accessAllowed ? 'block' : 'none';\n",
       "\n",
       "        async function convertToInteractive(key) {\n",
       "          const element = document.querySelector('#df-d1565a55-5742-4fb5-b38e-6f2b18737bd4');\n",
       "          const dataTable =\n",
       "            await google.colab.kernel.invokeFunction('convertToInteractive',\n",
       "                                                     [key], {});\n",
       "          if (!dataTable) return;\n",
       "\n",
       "          const docLinkHtml = 'Like what you see? Visit the ' +\n",
       "            '<a target=\"_blank\" href=https://colab.research.google.com/notebooks/data_table.ipynb>data table notebook</a>'\n",
       "            + ' to learn more about interactive tables.';\n",
       "          element.innerHTML = '';\n",
       "          dataTable['output_type'] = 'display_data';\n",
       "          await google.colab.output.renderOutput(dataTable, element);\n",
       "          const docLink = document.createElement('div');\n",
       "          docLink.innerHTML = docLinkHtml;\n",
       "          element.appendChild(docLink);\n",
       "        }\n",
       "      </script>\n",
       "    </div>\n",
       "  </div>\n",
       "  "
      ],
      "text/plain": [
       "                     수송일자   인원 호선             역명  역명라벨\n",
       "0     2022-01-01 05:00:00  120  1          서울역 1   136\n",
       "172   2022-01-01 05:00:00   21  5         하남풍산 5   262\n",
       "173   2022-01-01 05:00:00   59  5  하남시청(덕풍·신장) 5   261\n",
       "174   2022-01-01 05:00:00   56  5        하남검단산 5   260\n",
       "175   2022-01-01 05:00:00  152  6           응암 6   215\n",
       "...                   ...  ... ..            ...   ...\n",
       "66076 2022-08-31 23:00:00   68  3           대청 3    61\n",
       "66075 2022-08-31 23:00:00    7  3          학여울 3   264\n",
       "66074 2022-08-31 23:00:00  123  3           대치 3    62\n",
       "66080 2022-08-31 23:00:00   48  3         경찰병원 3    15\n",
       "66260 2022-08-31 23:00:00   67  8          남위례 8    46\n",
       "\n",
       "[1258959 rows x 5 columns]"
      ]
     },
     "execution_count": 19,
     "metadata": {},
     "output_type": "execute_result"
    }
   ],
   "source": [
    "result"
   ]
  },
  {
   "cell_type": "code",
   "execution_count": null,
   "metadata": {
    "id": "pumdaeKoNzYu"
   },
   "outputs": [],
   "source": [
    "result = result.reset_index(drop=True)"
   ]
  },
  {
   "cell_type": "code",
   "execution_count": null,
   "metadata": {
    "id": "j7Gguoxc_haS"
   },
   "outputs": [],
   "source": [
    "df = result[['수송일자', '인원', '역명라벨']]"
   ]
  },
  {
   "cell_type": "code",
   "execution_count": null,
   "metadata": {
    "colab": {
     "base_uri": "https://localhost:8080/"
    },
    "executionInfo": {
     "elapsed": 8,
     "status": "ok",
     "timestamp": 1672130364116,
     "user": {
      "displayName": "김재민",
      "userId": "14133616262020169823"
     },
     "user_tz": -540
    },
    "id": "_zhgaIHl48KN",
    "outputId": "d3d4f589-ac85-45b0-8b9f-bd14a86fdd14"
   },
   "outputs": [
    {
     "name": "stderr",
     "output_type": "stream",
     "text": [
      "/usr/local/lib/python3.8/dist-packages/pandas/core/frame.py:5039: SettingWithCopyWarning: \n",
      "A value is trying to be set on a copy of a slice from a DataFrame\n",
      "\n",
      "See the caveats in the documentation: https://pandas.pydata.org/pandas-docs/stable/user_guide/indexing.html#returning-a-view-versus-a-copy\n",
      "  return super().rename(\n"
     ]
    }
   ],
   "source": [
    "df.rename(columns={'수송일자':'ds', '인원':'y'}, inplace=True)"
   ]
  },
  {
   "cell_type": "code",
   "execution_count": null,
   "metadata": {
    "id": "SysqrP64RFYN"
   },
   "outputs": [],
   "source": [
    "df.to_csv('ps.csv', index=False)"
   ]
  },
  {
   "cell_type": "code",
   "execution_count": null,
   "metadata": {
    "colab": {
     "base_uri": "https://localhost:8080/"
    },
    "executionInfo": {
     "elapsed": 88376,
     "status": "ok",
     "timestamp": 1672130459179,
     "user": {
      "displayName": "김재민",
      "userId": "14133616262020169823"
     },
     "user_tz": -540
    },
    "id": "pfxXohbGIqjl",
    "outputId": "a7e61874-7fc5-4cd7-c28e-1930a2ca879b"
   },
   "outputs": [
    {
     "name": "stdout",
     "output_type": "stream",
     "text": [
      "Looking in indexes: https://pypi.org/simple, https://us-python.pkg.dev/colab-wheels/public/simple/\n",
      "Collecting pystan~=2.14\n",
      "  Downloading pystan-2.19.1.1-cp38-cp38-manylinux1_x86_64.whl (62.6 MB)\n",
      "\u001b[K     |████████████████████████████████| 62.6 MB 1.3 MB/s \n",
      "\u001b[?25hRequirement already satisfied: numpy>=1.7 in /usr/local/lib/python3.8/dist-packages (from pystan~=2.14) (1.21.6)\n",
      "Requirement already satisfied: Cython!=0.25.1,>=0.22 in /usr/local/lib/python3.8/dist-packages (from pystan~=2.14) (0.29.32)\n",
      "Installing collected packages: pystan\n",
      "  Attempting uninstall: pystan\n",
      "    Found existing installation: pystan 3.3.0\n",
      "    Uninstalling pystan-3.3.0:\n",
      "      Successfully uninstalled pystan-3.3.0\n",
      "Successfully installed pystan-2.19.1.1\n",
      "Looking in indexes: https://pypi.org/simple, https://us-python.pkg.dev/colab-wheels/public/simple/\n",
      "Collecting fbprophet\n",
      "  Downloading fbprophet-0.7.1.tar.gz (64 kB)\n",
      "\u001b[K     |████████████████████████████████| 64 kB 2.2 MB/s \n",
      "\u001b[?25hRequirement already satisfied: Cython>=0.22 in /usr/local/lib/python3.8/dist-packages (from fbprophet) (0.29.32)\n",
      "Collecting cmdstanpy==0.9.5\n",
      "  Downloading cmdstanpy-0.9.5-py3-none-any.whl (37 kB)\n",
      "Requirement already satisfied: pystan>=2.14 in /usr/local/lib/python3.8/dist-packages (from fbprophet) (2.19.1.1)\n",
      "Requirement already satisfied: numpy>=1.15.4 in /usr/local/lib/python3.8/dist-packages (from fbprophet) (1.21.6)\n",
      "Requirement already satisfied: pandas>=1.0.4 in /usr/local/lib/python3.8/dist-packages (from fbprophet) (1.3.5)\n",
      "Requirement already satisfied: matplotlib>=2.0.0 in /usr/local/lib/python3.8/dist-packages (from fbprophet) (3.2.2)\n",
      "Requirement already satisfied: LunarCalendar>=0.0.9 in /usr/local/lib/python3.8/dist-packages (from fbprophet) (0.0.9)\n",
      "Requirement already satisfied: convertdate>=2.1.2 in /usr/local/lib/python3.8/dist-packages (from fbprophet) (2.4.0)\n",
      "Requirement already satisfied: holidays>=0.10.2 in /usr/local/lib/python3.8/dist-packages (from fbprophet) (0.17.2)\n",
      "Requirement already satisfied: setuptools-git>=1.2 in /usr/local/lib/python3.8/dist-packages (from fbprophet) (1.2)\n",
      "Requirement already satisfied: python-dateutil>=2.8.0 in /usr/local/lib/python3.8/dist-packages (from fbprophet) (2.8.2)\n",
      "Requirement already satisfied: tqdm>=4.36.1 in /usr/local/lib/python3.8/dist-packages (from fbprophet) (4.64.1)\n",
      "Requirement already satisfied: pymeeus<=1,>=0.3.13 in /usr/local/lib/python3.8/dist-packages (from convertdate>=2.1.2->fbprophet) (0.5.12)\n",
      "Requirement already satisfied: hijri-converter in /usr/local/lib/python3.8/dist-packages (from holidays>=0.10.2->fbprophet) (2.2.4)\n",
      "Requirement already satisfied: korean-lunar-calendar in /usr/local/lib/python3.8/dist-packages (from holidays>=0.10.2->fbprophet) (0.3.1)\n",
      "Requirement already satisfied: ephem>=3.7.5.3 in /usr/local/lib/python3.8/dist-packages (from LunarCalendar>=0.0.9->fbprophet) (4.1.3)\n",
      "Requirement already satisfied: pytz in /usr/local/lib/python3.8/dist-packages (from LunarCalendar>=0.0.9->fbprophet) (2022.6)\n",
      "Requirement already satisfied: pyparsing!=2.0.4,!=2.1.2,!=2.1.6,>=2.0.1 in /usr/local/lib/python3.8/dist-packages (from matplotlib>=2.0.0->fbprophet) (3.0.9)\n",
      "Requirement already satisfied: cycler>=0.10 in /usr/local/lib/python3.8/dist-packages (from matplotlib>=2.0.0->fbprophet) (0.11.0)\n",
      "Requirement already satisfied: kiwisolver>=1.0.1 in /usr/local/lib/python3.8/dist-packages (from matplotlib>=2.0.0->fbprophet) (1.4.4)\n",
      "Requirement already satisfied: six>=1.5 in /usr/local/lib/python3.8/dist-packages (from python-dateutil>=2.8.0->fbprophet) (1.15.0)\n",
      "Building wheels for collected packages: fbprophet\n",
      "  Building wheel for fbprophet (setup.py) ... \u001b[?25l\u001b[?25hdone\n",
      "  Created wheel for fbprophet: filename=fbprophet-0.7.1-py3-none-any.whl size=6751274 sha256=35084aaa82eaaa840a8d91336c87bcc93d0d92fe6fd7aabda92ba2b76a000127\n",
      "  Stored in directory: /root/.cache/pip/wheels/d0/d2/ae/c579b7fd160999d35908f3cb8ebcad7ef64ecaca7b78e4c3c8\n",
      "Successfully built fbprophet\n",
      "Installing collected packages: cmdstanpy, fbprophet\n",
      "  Attempting uninstall: cmdstanpy\n",
      "    Found existing installation: cmdstanpy 1.0.8\n",
      "    Uninstalling cmdstanpy-1.0.8:\n",
      "      Successfully uninstalled cmdstanpy-1.0.8\n",
      "\u001b[31mERROR: pip's dependency resolver does not currently take into account all the packages that are installed. This behaviour is the source of the following dependency conflicts.\n",
      "prophet 1.1.1 requires cmdstanpy>=1.0.4, but you have cmdstanpy 0.9.5 which is incompatible.\u001b[0m\n",
      "Successfully installed cmdstanpy-0.9.5 fbprophet-0.7.1\n"
     ]
    }
   ],
   "source": [
    "!pip install pystan~=2.14\n",
    "!pip install fbprophet"
   ]
  },
  {
   "cell_type": "code",
   "execution_count": null,
   "metadata": {
    "colab": {
     "base_uri": "https://localhost:8080/"
    },
    "executionInfo": {
     "elapsed": 8500,
     "status": "ok",
     "timestamp": 1672130467667,
     "user": {
      "displayName": "김재민",
      "userId": "14133616262020169823"
     },
     "user_tz": -540
    },
    "id": "969GpWBaItcL",
    "outputId": "02133740-8dff-454e-80aa-f34cf6bdb08c"
   },
   "outputs": [
    {
     "name": "stdout",
     "output_type": "stream",
     "text": [
      "Looking in indexes: https://pypi.org/simple, https://us-python.pkg.dev/colab-wheels/public/simple/\n",
      "Collecting yfinance\n",
      "  Downloading yfinance-0.2.3-py2.py3-none-any.whl (50 kB)\n",
      "\u001b[K     |████████████████████████████████| 50 kB 2.7 MB/s \n",
      "\u001b[?25hCollecting html5lib>=1.1\n",
      "  Downloading html5lib-1.1-py2.py3-none-any.whl (112 kB)\n",
      "\u001b[K     |████████████████████████████████| 112 kB 28.0 MB/s \n",
      "\u001b[?25hCollecting cryptography>=3.3.2\n",
      "  Downloading cryptography-38.0.4-cp36-abi3-manylinux_2_24_x86_64.whl (4.0 MB)\n",
      "\u001b[K     |████████████████████████████████| 4.0 MB 24.5 MB/s \n",
      "\u001b[?25hRequirement already satisfied: numpy>=1.16.5 in /usr/local/lib/python3.8/dist-packages (from yfinance) (1.21.6)\n",
      "Requirement already satisfied: appdirs>=1.4.4 in /usr/local/lib/python3.8/dist-packages (from yfinance) (1.4.4)\n",
      "Requirement already satisfied: pandas>=1.3.0 in /usr/local/lib/python3.8/dist-packages (from yfinance) (1.3.5)\n",
      "Requirement already satisfied: lxml>=4.9.1 in /usr/local/lib/python3.8/dist-packages (from yfinance) (4.9.2)\n",
      "Collecting beautifulsoup4>=4.11.1\n",
      "  Downloading beautifulsoup4-4.11.1-py3-none-any.whl (128 kB)\n",
      "\u001b[K     |████████████████████████████████| 128 kB 68.0 MB/s \n",
      "\u001b[?25hCollecting requests>=2.26\n",
      "  Downloading requests-2.28.1-py3-none-any.whl (62 kB)\n",
      "\u001b[K     |████████████████████████████████| 62 kB 1.0 MB/s \n",
      "\u001b[?25hRequirement already satisfied: pytz>=2022.5 in /usr/local/lib/python3.8/dist-packages (from yfinance) (2022.6)\n",
      "Collecting frozendict>=2.3.4\n",
      "  Downloading frozendict-2.3.4-cp38-cp38-manylinux_2_17_x86_64.manylinux2014_x86_64.whl (110 kB)\n",
      "\u001b[K     |████████████████████████████████| 110 kB 65.6 MB/s \n",
      "\u001b[?25hRequirement already satisfied: multitasking>=0.0.7 in /usr/local/lib/python3.8/dist-packages (from yfinance) (0.0.11)\n",
      "Collecting soupsieve>1.2\n",
      "  Downloading soupsieve-2.3.2.post1-py3-none-any.whl (37 kB)\n",
      "Requirement already satisfied: cffi>=1.12 in /usr/local/lib/python3.8/dist-packages (from cryptography>=3.3.2->yfinance) (1.15.1)\n",
      "Requirement already satisfied: pycparser in /usr/local/lib/python3.8/dist-packages (from cffi>=1.12->cryptography>=3.3.2->yfinance) (2.21)\n",
      "Requirement already satisfied: six>=1.9 in /usr/local/lib/python3.8/dist-packages (from html5lib>=1.1->yfinance) (1.15.0)\n",
      "Requirement already satisfied: webencodings in /usr/local/lib/python3.8/dist-packages (from html5lib>=1.1->yfinance) (0.5.1)\n",
      "Requirement already satisfied: python-dateutil>=2.7.3 in /usr/local/lib/python3.8/dist-packages (from pandas>=1.3.0->yfinance) (2.8.2)\n",
      "Requirement already satisfied: charset-normalizer<3,>=2 in /usr/local/lib/python3.8/dist-packages (from requests>=2.26->yfinance) (2.1.1)\n",
      "Requirement already satisfied: idna<4,>=2.5 in /usr/local/lib/python3.8/dist-packages (from requests>=2.26->yfinance) (2.10)\n",
      "Requirement already satisfied: urllib3<1.27,>=1.21.1 in /usr/local/lib/python3.8/dist-packages (from requests>=2.26->yfinance) (1.24.3)\n",
      "Requirement already satisfied: certifi>=2017.4.17 in /usr/local/lib/python3.8/dist-packages (from requests>=2.26->yfinance) (2022.12.7)\n",
      "Installing collected packages: soupsieve, requests, html5lib, frozendict, cryptography, beautifulsoup4, yfinance\n",
      "  Attempting uninstall: requests\n",
      "    Found existing installation: requests 2.23.0\n",
      "    Uninstalling requests-2.23.0:\n",
      "      Successfully uninstalled requests-2.23.0\n",
      "  Attempting uninstall: html5lib\n",
      "    Found existing installation: html5lib 1.0.1\n",
      "    Uninstalling html5lib-1.0.1:\n",
      "      Successfully uninstalled html5lib-1.0.1\n",
      "  Attempting uninstall: beautifulsoup4\n",
      "    Found existing installation: beautifulsoup4 4.6.3\n",
      "    Uninstalling beautifulsoup4-4.6.3:\n",
      "      Successfully uninstalled beautifulsoup4-4.6.3\n",
      "Successfully installed beautifulsoup4-4.11.1 cryptography-38.0.4 frozendict-2.3.4 html5lib-1.1 requests-2.28.1 soupsieve-2.3.2.post1 yfinance-0.2.3\n"
     ]
    }
   ],
   "source": [
    "!pip install yfinance"
   ]
  },
  {
   "cell_type": "code",
   "execution_count": null,
   "metadata": {
    "id": "TKckc-BfIw-P"
   },
   "outputs": [],
   "source": [
    "from fbprophet import Prophet \n",
    "from prophet.plot import add_changepoints_to_plot"
   ]
  },
  {
   "cell_type": "markdown",
   "metadata": {
    "id": "sRFkY3VcL8Oj"
   },
   "source": [
    "# prophet 1개"
   ]
  },
  {
   "cell_type": "code",
   "execution_count": null,
   "metadata": {
    "id": "HDc3bpWHL706"
   },
   "outputs": [],
   "source": []
  },
  {
   "cell_type": "code",
   "execution_count": null,
   "metadata": {
    "id": "bO8Jiv8DUCNU"
   },
   "outputs": [],
   "source": [
    "result1 = result[(result.역명 == '명동')&(result.수송일자>'2022-07-01')]"
   ]
  },
  {
   "cell_type": "code",
   "execution_count": null,
   "metadata": {
    "id": "37cj0SpCZnMk"
   },
   "outputs": [],
   "source": [
    "result1.reset_index(drop=True, inplace=True)"
   ]
  },
  {
   "cell_type": "code",
   "execution_count": null,
   "metadata": {
    "id": "6pC5M4QvUIyN"
   },
   "outputs": [],
   "source": [
    "import seaborn as sns\n",
    "import matplotlib.pyplot as plt"
   ]
  },
  {
   "cell_type": "code",
   "execution_count": null,
   "metadata": {
    "colab": {
     "base_uri": "https://localhost:8080/",
     "height": 753
    },
    "executionInfo": {
     "elapsed": 1589,
     "status": "ok",
     "timestamp": 1668512632801,
     "user": {
      "displayName": "김재민",
      "userId": "14133616262020169823"
     },
     "user_tz": -540
    },
    "id": "6Iln-S-pUPfP",
    "outputId": "6b8e40ea-52f5-4f9d-cd5b-5239f82286c6"
   },
   "outputs": [
    {
     "data": {
      "text/plain": [
       "<matplotlib.axes._subplots.AxesSubplot at 0x7fe5f96f6810>"
      ]
     },
     "execution_count": 24,
     "metadata": {},
     "output_type": "execute_result"
    },
    {
     "name": "stderr",
     "output_type": "stream",
     "text": [
      "/usr/local/lib/python3.7/dist-packages/matplotlib/backends/backend_agg.py:214: RuntimeWarning: Glyph 49688 missing from current font.\n",
      "  font.set_text(s, 0.0, flags=flags)\n",
      "/usr/local/lib/python3.7/dist-packages/matplotlib/backends/backend_agg.py:214: RuntimeWarning: Glyph 49569 missing from current font.\n",
      "  font.set_text(s, 0.0, flags=flags)\n",
      "/usr/local/lib/python3.7/dist-packages/matplotlib/backends/backend_agg.py:214: RuntimeWarning: Glyph 51068 missing from current font.\n",
      "  font.set_text(s, 0.0, flags=flags)\n",
      "/usr/local/lib/python3.7/dist-packages/matplotlib/backends/backend_agg.py:214: RuntimeWarning: Glyph 51088 missing from current font.\n",
      "  font.set_text(s, 0.0, flags=flags)\n",
      "/usr/local/lib/python3.7/dist-packages/matplotlib/backends/backend_agg.py:183: RuntimeWarning: Glyph 49688 missing from current font.\n",
      "  font.set_text(s, 0, flags=flags)\n",
      "/usr/local/lib/python3.7/dist-packages/matplotlib/backends/backend_agg.py:183: RuntimeWarning: Glyph 49569 missing from current font.\n",
      "  font.set_text(s, 0, flags=flags)\n",
      "/usr/local/lib/python3.7/dist-packages/matplotlib/backends/backend_agg.py:183: RuntimeWarning: Glyph 51068 missing from current font.\n",
      "  font.set_text(s, 0, flags=flags)\n",
      "/usr/local/lib/python3.7/dist-packages/matplotlib/backends/backend_agg.py:183: RuntimeWarning: Glyph 51088 missing from current font.\n",
      "  font.set_text(s, 0, flags=flags)\n",
      "/usr/local/lib/python3.7/dist-packages/matplotlib/backends/backend_agg.py:214: RuntimeWarning: Glyph 51064 missing from current font.\n",
      "  font.set_text(s, 0.0, flags=flags)\n",
      "/usr/local/lib/python3.7/dist-packages/matplotlib/backends/backend_agg.py:214: RuntimeWarning: Glyph 50896 missing from current font.\n",
      "  font.set_text(s, 0.0, flags=flags)\n",
      "/usr/local/lib/python3.7/dist-packages/matplotlib/backends/backend_agg.py:183: RuntimeWarning: Glyph 51064 missing from current font.\n",
      "  font.set_text(s, 0, flags=flags)\n",
      "/usr/local/lib/python3.7/dist-packages/matplotlib/backends/backend_agg.py:183: RuntimeWarning: Glyph 50896 missing from current font.\n",
      "  font.set_text(s, 0, flags=flags)\n"
     ]
    },
    {
     "data": {
      "image/png": "[encoded data removed]",
      "text/plain": [
       "<Figure size 1800x720 with 1 Axes>"
      ]
     },
     "metadata": {},
     "output_type": "display_data"
    }
   ],
   "source": [
    "sns.set(rc={'figure.figsize':(25,10)})\n",
    "sns.lineplot(x=result1['수송일자'] , y=result1['인원'])"
   ]
  },
  {
   "cell_type": "code",
   "execution_count": null,
   "metadata": {
    "id": "wd3zny6iUb8Y"
   },
   "outputs": [],
   "source": [
    "temp_df = result1 # 날짜 기간 나누기 \n",
    "study_df = pd.DataFrame() # 빈데이터 프레임 생성 \n",
    "study_df['ds'] = temp_df.reset_index(drop=False)['수송일자'] # 시간 부분 넣기 \n",
    "study_df['y'] =temp_df.reset_index(drop=False)['인원'] # 최대 전력 수요량 넣기 "
   ]
  },
  {
   "cell_type": "code",
   "execution_count": null,
   "metadata": {
    "colab": {
     "base_uri": "https://localhost:8080/",
     "height": 424
    },
    "executionInfo": {
     "elapsed": 17,
     "status": "ok",
     "timestamp": 1668512632804,
     "user": {
      "displayName": "김재민",
      "userId": "14133616262020169823"
     },
     "user_tz": -540
    },
    "id": "nB0pqeIEgBOo",
    "outputId": "8935d777-31f7-4604-c50f-7e1bf31de991"
   },
   "outputs": [
    {
     "data": {
      "text/html": [
       "\n",
       "  <div id=\"df-599daf84-eef0-457c-8a25-e7c853bcaf45\">\n",
       "    <div class=\"colab-df-container\">\n",
       "      <div>\n",
       "<style scoped>\n",
       "    .dataframe tbody tr th:only-of-type {\n",
       "        vertical-align: middle;\n",
       "    }\n",
       "\n",
       "    .dataframe tbody tr th {\n",
       "        vertical-align: top;\n",
       "    }\n",
       "\n",
       "    .dataframe thead th {\n",
       "        text-align: right;\n",
       "    }\n",
       "</style>\n",
       "<table border=\"1\" class=\"dataframe\">\n",
       "  <thead>\n",
       "    <tr style=\"text-align: right;\">\n",
       "      <th></th>\n",
       "      <th>ds</th>\n",
       "      <th>y</th>\n",
       "    </tr>\n",
       "  </thead>\n",
       "  <tbody>\n",
       "    <tr>\n",
       "      <th>0</th>\n",
       "      <td>2022-07-01 05:00:00</td>\n",
       "      <td>40</td>\n",
       "    </tr>\n",
       "    <tr>\n",
       "      <th>1</th>\n",
       "      <td>2022-07-01 06:00:00</td>\n",
       "      <td>98</td>\n",
       "    </tr>\n",
       "    <tr>\n",
       "      <th>2</th>\n",
       "      <td>2022-07-01 07:00:00</td>\n",
       "      <td>200</td>\n",
       "    </tr>\n",
       "    <tr>\n",
       "      <th>3</th>\n",
       "      <td>2022-07-01 08:00:00</td>\n",
       "      <td>271</td>\n",
       "    </tr>\n",
       "    <tr>\n",
       "      <th>4</th>\n",
       "      <td>2022-07-01 09:00:00</td>\n",
       "      <td>335</td>\n",
       "    </tr>\n",
       "    <tr>\n",
       "      <th>...</th>\n",
       "      <td>...</td>\n",
       "      <td>...</td>\n",
       "    </tr>\n",
       "    <tr>\n",
       "      <th>1173</th>\n",
       "      <td>2022-08-31 19:00:00</td>\n",
       "      <td>2228</td>\n",
       "    </tr>\n",
       "    <tr>\n",
       "      <th>1174</th>\n",
       "      <td>2022-08-31 20:00:00</td>\n",
       "      <td>1807</td>\n",
       "    </tr>\n",
       "    <tr>\n",
       "      <th>1175</th>\n",
       "      <td>2022-08-31 21:00:00</td>\n",
       "      <td>1614</td>\n",
       "    </tr>\n",
       "    <tr>\n",
       "      <th>1176</th>\n",
       "      <td>2022-08-31 22:00:00</td>\n",
       "      <td>1141</td>\n",
       "    </tr>\n",
       "    <tr>\n",
       "      <th>1177</th>\n",
       "      <td>2022-08-31 23:00:00</td>\n",
       "      <td>333</td>\n",
       "    </tr>\n",
       "  </tbody>\n",
       "</table>\n",
       "<p>1178 rows × 2 columns</p>\n",
       "</div>\n",
       "      <button class=\"colab-df-convert\" onclick=\"convertToInteractive('df-599daf84-eef0-457c-8a25-e7c853bcaf45')\"\n",
       "              title=\"Convert this dataframe to an interactive table.\"\n",
       "              style=\"display:none;\">\n",
       "        \n",
       "  <svg xmlns=\"http://www.w3.org/2000/svg\" height=\"24px\"viewBox=\"0 0 24 24\"\n",
       "       width=\"24px\">\n",
       "    <path d=\"M0 0h24v24H0V0z\" fill=\"none\"/>\n",
       "    <path d=\"M18.56 5.44l.94 2.06.94-2.06 2.06-.94-2.06-.94-.94-2.06-.94 2.06-2.06.94zm-11 1L8.5 8.5l.94-2.06 2.06-.94-2.06-.94L8.5 2.5l-.94 2.06-2.06.94zm10 10l.94 2.06.94-2.06 2.06-.94-2.06-.94-.94-2.06-.94 2.06-2.06.94z\"/><path d=\"M17.41 7.96l-1.37-1.37c-.4-.4-.92-.59-1.43-.59-.52 0-1.04.2-1.43.59L10.3 9.45l-7.72 7.72c-.78.78-.78 2.05 0 2.83L4 21.41c.39.39.9.59 1.41.59.51 0 1.02-.2 1.41-.59l7.78-7.78 2.81-2.81c.8-.78.8-2.07 0-2.86zM5.41 20L4 18.59l7.72-7.72 1.47 1.35L5.41 20z\"/>\n",
       "  </svg>\n",
       "      </button>\n",
       "      \n",
       "  <style>\n",
       "    .colab-df-container {\n",
       "      display:flex;\n",
       "      flex-wrap:wrap;\n",
       "      gap: 12px;\n",
       "    }\n",
       "\n",
       "    .colab-df-convert {\n",
       "      background-color: #E8F0FE;\n",
       "      border: none;\n",
       "      border-radius: 50%;\n",
       "      cursor: pointer;\n",
       "      display: none;\n",
       "      fill: #1967D2;\n",
       "      height: 32px;\n",
       "      padding: 0 0 0 0;\n",
       "      width: 32px;\n",
       "    }\n",
       "\n",
       "    .colab-df-convert:hover {\n",
       "      background-color: #E2EBFA;\n",
       "      box-shadow: 0px 1px 2px rgba(60, 64, 67, 0.3), 0px 1px 3px 1px rgba(60, 64, 67, 0.15);\n",
       "      fill: #174EA6;\n",
       "    }\n",
       "\n",
       "    [theme=dark] .colab-df-convert {\n",
       "      background-color: #3B4455;\n",
       "      fill: #D2E3FC;\n",
       "    }\n",
       "\n",
       "    [theme=dark] .colab-df-convert:hover {\n",
       "      background-color: #434B5C;\n",
       "      box-shadow: 0px 1px 3px 1px rgba(0, 0, 0, 0.15);\n",
       "      filter: drop-shadow(0px 1px 2px rgba(0, 0, 0, 0.3));\n",
       "      fill: #FFFFFF;\n",
       "    }\n",
       "  </style>\n",
       "\n",
       "      <script>\n",
       "        const buttonEl =\n",
       "          document.querySelector('#df-599daf84-eef0-457c-8a25-e7c853bcaf45 button.colab-df-convert');\n",
       "        buttonEl.style.display =\n",
       "          google.colab.kernel.accessAllowed ? 'block' : 'none';\n",
       "\n",
       "        async function convertToInteractive(key) {\n",
       "          const element = document.querySelector('#df-599daf84-eef0-457c-8a25-e7c853bcaf45');\n",
       "          const dataTable =\n",
       "            await google.colab.kernel.invokeFunction('convertToInteractive',\n",
       "                                                     [key], {});\n",
       "          if (!dataTable) return;\n",
       "\n",
       "          const docLinkHtml = 'Like what you see? Visit the ' +\n",
       "            '<a target=\"_blank\" href=https://colab.research.google.com/notebooks/data_table.ipynb>data table notebook</a>'\n",
       "            + ' to learn more about interactive tables.';\n",
       "          element.innerHTML = '';\n",
       "          dataTable['output_type'] = 'display_data';\n",
       "          await google.colab.output.renderOutput(dataTable, element);\n",
       "          const docLink = document.createElement('div');\n",
       "          docLink.innerHTML = docLinkHtml;\n",
       "          element.appendChild(docLink);\n",
       "        }\n",
       "      </script>\n",
       "    </div>\n",
       "  </div>\n",
       "  "
      ],
      "text/plain": [
       "                      ds     y\n",
       "0    2022-07-01 05:00:00    40\n",
       "1    2022-07-01 06:00:00    98\n",
       "2    2022-07-01 07:00:00   200\n",
       "3    2022-07-01 08:00:00   271\n",
       "4    2022-07-01 09:00:00   335\n",
       "...                  ...   ...\n",
       "1173 2022-08-31 19:00:00  2228\n",
       "1174 2022-08-31 20:00:00  1807\n",
       "1175 2022-08-31 21:00:00  1614\n",
       "1176 2022-08-31 22:00:00  1141\n",
       "1177 2022-08-31 23:00:00   333\n",
       "\n",
       "[1178 rows x 2 columns]"
      ]
     },
     "execution_count": 26,
     "metadata": {},
     "output_type": "execute_result"
    }
   ],
   "source": [
    "study_df # 데이터셋 준비"
   ]
  },
  {
   "cell_type": "code",
   "execution_count": null,
   "metadata": {
    "colab": {
     "base_uri": "https://localhost:8080/",
     "height": 440
    },
    "executionInfo": {
     "elapsed": 6250,
     "status": "ok",
     "timestamp": 1668512639039,
     "user": {
      "displayName": "김재민",
      "userId": "14133616262020169823"
     },
     "user_tz": -540
    },
    "id": "r_89ApkmgLLS",
    "outputId": "75789e7c-eefd-4126-ec35-58242138a4da"
   },
   "outputs": [
    {
     "name": "stderr",
     "output_type": "stream",
     "text": [
      "INFO:fbprophet:Disabling yearly seasonality. Run prophet with yearly_seasonality=True to override this.\n"
     ]
    },
    {
     "data": {
      "image/png": "[encoded data removed]",
      "text/plain": [
       "<Figure size 720x432 with 1 Axes>"
      ]
     },
     "metadata": {},
     "output_type": "display_data"
    }
   ],
   "source": [
    "model = Prophet() # 모델 인스턴스 선언 \n",
    "model.fit(study_df) # 모델 생성 \n",
    "\n",
    "future = model.make_future_dataframe(periods=1000, freq='H') #100개 예측 \n",
    "forecast = model.predict(future) # 예측 결과 생성 \n",
    "fig = model.plot(forecast) # 예측결과 확인 "
   ]
  },
  {
   "cell_type": "code",
   "execution_count": null,
   "metadata": {
    "colab": {
     "base_uri": "https://localhost:8080/",
     "height": 653
    },
    "executionInfo": {
     "elapsed": 1619,
     "status": "ok",
     "timestamp": 1668512640643,
     "user": {
      "displayName": "김재민",
      "userId": "14133616262020169823"
     },
     "user_tz": -540
    },
    "id": "yy5VCNcZg8PW",
    "outputId": "3806475d-67e2-47fe-9fe1-6b3ace9fcf88"
   },
   "outputs": [
    {
     "data": {
      "image/png": "[encoded data removed]",
      "text/plain": [
       "<Figure size 648x648 with 3 Axes>"
      ]
     },
     "metadata": {},
     "output_type": "display_data"
    }
   ],
   "source": [
    "fig = model.plot_components(forecast)"
   ]
  },
  {
   "cell_type": "markdown",
   "metadata": {
    "id": "AeZll0HJMAxC"
   },
   "source": [
    "# 스파크"
   ]
  },
  {
   "cell_type": "code",
   "execution_count": null,
   "metadata": {
    "colab": {
     "base_uri": "https://localhost:8080/"
    },
    "executionInfo": {
     "elapsed": 54242,
     "status": "ok",
     "timestamp": 1672130522328,
     "user": {
      "displayName": "김재민",
      "userId": "14133616262020169823"
     },
     "user_tz": -540
    },
    "id": "WqmdpCbpRWEZ",
    "outputId": "af79fbed-d6af-4a09-a5f6-301e840f9b84"
   },
   "outputs": [
    {
     "name": "stdout",
     "output_type": "stream",
     "text": [
      "Looking in indexes: https://pypi.org/simple, https://us-python.pkg.dev/colab-wheels/public/simple/\n",
      "Collecting pyspark\n",
      "  Downloading pyspark-3.3.1.tar.gz (281.4 MB)\n",
      "\u001b[K     |████████████████████████████████| 281.4 MB 40 kB/s \n",
      "\u001b[?25hCollecting py4j==0.10.9.5\n",
      "  Downloading py4j-0.10.9.5-py2.py3-none-any.whl (199 kB)\n",
      "\u001b[K     |████████████████████████████████| 199 kB 62.8 MB/s \n",
      "\u001b[?25hBuilding wheels for collected packages: pyspark\n",
      "  Building wheel for pyspark (setup.py) ... \u001b[?25l\u001b[?25hdone\n",
      "  Created wheel for pyspark: filename=pyspark-3.3.1-py2.py3-none-any.whl size=281845512 sha256=5ce63a2ec58c2384588d3684e3b4fb2808f9a15df345cd00aaa45ec0ad43b643\n",
      "  Stored in directory: /root/.cache/pip/wheels/43/dc/11/ec201cd671da62fa9c5cc77078235e40722170ceba231d7598\n",
      "Successfully built pyspark\n",
      "Installing collected packages: py4j, pyspark\n",
      "Successfully installed py4j-0.10.9.5 pyspark-3.3.1\n"
     ]
    }
   ],
   "source": [
    "!pip install pyspark"
   ]
  },
  {
   "cell_type": "code",
   "execution_count": null,
   "metadata": {
    "id": "KRNnx0XURcYr"
   },
   "outputs": [],
   "source": [
    "import pyspark"
   ]
  },
  {
   "cell_type": "code",
   "execution_count": null,
   "metadata": {
    "id": "YrVskyJHRwCJ"
   },
   "outputs": [],
   "source": [
    "from pyspark.sql import SparkSession"
   ]
  },
  {
   "cell_type": "code",
   "execution_count": null,
   "metadata": {
    "id": "SCcfh28RDG10"
   },
   "outputs": [],
   "source": [
    "from pyspark.sql.functions import pandas_udf, PandasUDFType\n",
    "from pyspark.sql.types import *\n",
    "from pyspark.sql.functions import col"
   ]
  },
  {
   "cell_type": "code",
   "execution_count": null,
   "metadata": {
    "colab": {
     "base_uri": "https://localhost:8080/",
     "height": 564
    },
    "executionInfo": {
     "elapsed": 19359,
     "status": "ok",
     "timestamp": 1672130542104,
     "user": {
      "displayName": "김재민",
      "userId": "14133616262020169823"
     },
     "user_tz": -540
    },
    "id": "lvMcoggweJUN",
    "outputId": "67c3cc88-b1e4-46df-ff33-3dc122c3363f"
   },
   "outputs": [
    {
     "name": "stdout",
     "output_type": "stream",
     "text": [
      "Looking in indexes: https://pypi.org/simple, https://us-python.pkg.dev/colab-wheels/public/simple/\n",
      "Collecting fastparquet\n",
      "  Downloading fastparquet-2022.12.0-cp38-cp38-manylinux_2_17_x86_64.manylinux2014_x86_64.whl (1.6 MB)\n",
      "\u001b[K     |████████████████████████████████| 1.6 MB 17.8 MB/s \n",
      "\u001b[?25hRequirement already satisfied: numpy>=1.20.3 in /usr/local/lib/python3.8/dist-packages (from fastparquet) (1.21.6)\n",
      "Requirement already satisfied: fsspec in /usr/local/lib/python3.8/dist-packages (from fastparquet) (2022.11.0)\n",
      "Collecting pandas>=1.5.0\n",
      "  Downloading pandas-1.5.2-cp38-cp38-manylinux_2_17_x86_64.manylinux2014_x86_64.whl (12.2 MB)\n",
      "\u001b[K     |████████████████████████████████| 12.2 MB 45.7 MB/s \n",
      "\u001b[?25hCollecting cramjam>=2.3\n",
      "  Downloading cramjam-2.6.2-cp38-cp38-manylinux_2_17_x86_64.manylinux2014_x86_64.whl (2.0 MB)\n",
      "\u001b[K     |████████████████████████████████| 2.0 MB 54.0 MB/s \n",
      "\u001b[?25hRequirement already satisfied: packaging in /usr/local/lib/python3.8/dist-packages (from fastparquet) (21.3)\n",
      "Requirement already satisfied: python-dateutil>=2.8.1 in /usr/local/lib/python3.8/dist-packages (from pandas>=1.5.0->fastparquet) (2.8.2)\n",
      "Requirement already satisfied: pytz>=2020.1 in /usr/local/lib/python3.8/dist-packages (from pandas>=1.5.0->fastparquet) (2022.6)\n",
      "Requirement already satisfied: six>=1.5 in /usr/local/lib/python3.8/dist-packages (from python-dateutil>=2.8.1->pandas>=1.5.0->fastparquet) (1.15.0)\n",
      "Requirement already satisfied: pyparsing!=3.0.5,>=2.0.2 in /usr/local/lib/python3.8/dist-packages (from packaging->fastparquet) (3.0.9)\n",
      "Installing collected packages: pandas, cramjam, fastparquet\n",
      "  Attempting uninstall: pandas\n",
      "    Found existing installation: pandas 1.3.5\n",
      "    Uninstalling pandas-1.3.5:\n",
      "      Successfully uninstalled pandas-1.3.5\n",
      "\u001b[31mERROR: pip's dependency resolver does not currently take into account all the packages that are installed. This behaviour is the source of the following dependency conflicts.\n",
      "prophet 1.1.1 requires cmdstanpy>=1.0.4, but you have cmdstanpy 0.9.5 which is incompatible.\u001b[0m\n",
      "Successfully installed cramjam-2.6.2 fastparquet-2022.12.0 pandas-1.5.2\n"
     ]
    },
    {
     "data": {
      "application/vnd.colab-display-data+json": {
       "pip_warning": {
        "packages": [
         "pandas"
        ]
       }
      }
     },
     "metadata": {},
     "output_type": "display_data"
    }
   ],
   "source": [
    "!pip install fastparquet"
   ]
  },
  {
   "cell_type": "code",
   "execution_count": null,
   "metadata": {
    "id": "Xhi0OkAEcUI3"
   },
   "outputs": [],
   "source": [
    "df = pd.read_csv('ps.csv')"
   ]
  },
  {
   "cell_type": "code",
   "execution_count": null,
   "metadata": {
    "colab": {
     "base_uri": "https://localhost:8080/"
    },
    "executionInfo": {
     "elapsed": 5,
     "status": "ok",
     "timestamp": 1672130552053,
     "user": {
      "displayName": "김재민",
      "userId": "14133616262020169823"
     },
     "user_tz": -540
    },
    "id": "ZUN5GGSEekl5",
    "outputId": "b5ff0148-95dd-4f1f-8288-c666a72f2426"
   },
   "outputs": [
    {
     "data": {
      "text/plain": [
       "19927"
      ]
     },
     "execution_count": 34,
     "metadata": {},
     "output_type": "execute_result"
    }
   ],
   "source": [
    "df.y.max()"
   ]
  },
  {
   "cell_type": "code",
   "execution_count": null,
   "metadata": {
    "colab": {
     "base_uri": "https://localhost:8080/"
    },
    "executionInfo": {
     "elapsed": 1441,
     "status": "ok",
     "timestamp": 1672130554936,
     "user": {
      "displayName": "김재민",
      "userId": "14133616262020169823"
     },
     "user_tz": -540
    },
    "id": "SADMBG2yazvL",
    "outputId": "acdfc494-1039-490c-cbf7-fd6cf14c10c0"
   },
   "outputs": [
    {
     "name": "stdout",
     "output_type": "stream",
     "text": [
      "time:  1.6461718319999363\n"
     ]
    }
   ],
   "source": [
    "start = timeit.default_timer() \n",
    "df.to_parquet('my.parquet')\n",
    "stop = timeit.default_timer()\n",
    "\n",
    "print('time: ', stop - start)"
   ]
  },
  {
   "cell_type": "markdown",
   "metadata": {
    "id": "iLdVCYbS8tuy"
   },
   "source": [
    "# pandasUDF"
   ]
  },
  {
   "cell_type": "code",
   "execution_count": null,
   "metadata": {
    "id": "4PDvG-NYRv-D"
   },
   "outputs": [],
   "source": [
    "spark=SparkSession.builder.appName('Practise').getOrCreate()"
   ]
  },
  {
   "cell_type": "code",
   "execution_count": null,
   "metadata": {
    "colab": {
     "base_uri": "https://localhost:8080/"
    },
    "executionInfo": {
     "elapsed": 6300,
     "status": "ok",
     "timestamp": 1672130573429,
     "user": {
      "displayName": "김재민",
      "userId": "14133616262020169823"
     },
     "user_tz": -540
    },
    "id": "H32NXpPZRv7R",
    "outputId": "20812399-aa34-474f-c710-106152d02f88"
   },
   "outputs": [
    {
     "name": "stdout",
     "output_type": "stream",
     "text": [
      "time:  5.93765776500004\n"
     ]
    }
   ],
   "source": [
    "start = timeit.default_timer() \n",
    "df_pyspark = spark.read.parquet('my.parquet',header=True, inferSchema=True)\n",
    "stop = timeit.default_timer()\n",
    "\n",
    "print('time: ', stop - start)"
   ]
  },
  {
   "cell_type": "code",
   "execution_count": null,
   "metadata": {
    "id": "wvuvb0fpfTyx"
   },
   "outputs": [],
   "source": []
  },
  {
   "cell_type": "code",
   "execution_count": null,
   "metadata": {
    "id": "J-lqDTgAQbR1"
   },
   "outputs": [],
   "source": [
    "df_pyspark = df_pyspark.withColumn(\"ds\", df_pyspark[\"ds\"].cast(\"timestamp\"))\n",
    "df_pyspark = df_pyspark.withColumn(\"y\", df_pyspark[\"y\"].cast(\"integer\"))\n",
    "df_pyspark = df_pyspark.withColumn(\"역명라벨\", df_pyspark[\"역명라벨\"].cast(\"integer\"))"
   ]
  },
  {
   "cell_type": "code",
   "execution_count": null,
   "metadata": {
    "colab": {
     "base_uri": "https://localhost:8080/"
    },
    "executionInfo": {
     "elapsed": 8,
     "status": "ok",
     "timestamp": 1672130577066,
     "user": {
      "displayName": "김재민",
      "userId": "14133616262020169823"
     },
     "user_tz": -540
    },
    "id": "_1ydO10uQn8R",
    "outputId": "205f4774-3802-4027-da52-8f92ff500b4d"
   },
   "outputs": [
    {
     "name": "stdout",
     "output_type": "stream",
     "text": [
      "root\n",
      " |-- ds: timestamp (nullable = true)\n",
      " |-- y: integer (nullable = true)\n",
      " |-- 역명라벨: integer (nullable = true)\n",
      "\n"
     ]
    }
   ],
   "source": [
    "df_pyspark.printSchema()"
   ]
  },
  {
   "cell_type": "code",
   "execution_count": null,
   "metadata": {
    "colab": {
     "base_uri": "https://localhost:8080/"
    },
    "executionInfo": {
     "elapsed": 2400,
     "status": "ok",
     "timestamp": 1672130580816,
     "user": {
      "displayName": "김재민",
      "userId": "14133616262020169823"
     },
     "user_tz": -540
    },
    "id": "hejND3jdSBmx",
    "outputId": "7f7d879c-4c54-4e65-80bc-dab0b6c9fefc"
   },
   "outputs": [
    {
     "name": "stdout",
     "output_type": "stream",
     "text": [
      "+-------------------+---+--------+\n",
      "|                 ds|  y|역명라벨|\n",
      "+-------------------+---+--------+\n",
      "|2022-01-01 05:00:00|120|     136|\n",
      "|2022-01-01 05:00:00| 21|     262|\n",
      "|2022-01-01 05:00:00| 59|     261|\n",
      "|2022-01-01 05:00:00| 56|     260|\n",
      "|2022-01-01 05:00:00|152|     215|\n",
      "|2022-01-01 05:00:00| 30|     190|\n",
      "|2022-01-01 05:00:00| 17|     117|\n",
      "|2022-01-01 05:00:00| 23|      68|\n",
      "|2022-01-01 05:00:00| 64|      30|\n",
      "|2022-01-01 05:00:00|136|     133|\n",
      "|2022-01-01 05:00:00| 93|     240|\n",
      "|2022-01-01 05:00:00|100|      80|\n",
      "|2022-01-01 05:00:00| 21|     209|\n",
      "|2022-01-01 05:00:00| 91|      88|\n",
      "|2022-01-01 05:00:00| 82|      89|\n",
      "|2022-01-01 05:00:00|108|     101|\n",
      "|2022-01-01 05:00:00| 57|     269|\n",
      "|2022-01-01 05:00:00| 50|      26|\n",
      "|2022-01-01 05:00:00| 41|      63|\n",
      "|2022-01-01 05:00:00| 93|      21|\n",
      "+-------------------+---+--------+\n",
      "only showing top 20 rows\n",
      "\n"
     ]
    }
   ],
   "source": [
    "df_pyspark.show()"
   ]
  },
  {
   "cell_type": "code",
   "execution_count": null,
   "metadata": {
    "colab": {
     "base_uri": "https://localhost:8080/"
    },
    "executionInfo": {
     "elapsed": 573,
     "status": "ok",
     "timestamp": 1672130624645,
     "user": {
      "displayName": "김재민",
      "userId": "14133616262020169823"
     },
     "user_tz": -540
    },
    "id": "KXBMIB64EfkJ",
    "outputId": "8683a01f-8b35-4ba8-df80-fa38200e0e38"
   },
   "outputs": [
    {
     "name": "stdout",
     "output_type": "stream",
     "text": [
      "== Physical Plan ==\n",
      "InMemoryTableScan [ds#6, y#11, 역명라벨#15]\n",
      "   +- InMemoryRelation [ds#6, y#11, 역명라벨#15], StorageLevel(disk, memory, deserialized, 1 replicas)\n",
      "         +- Exchange hashpartitioning(역명라벨#15, 2), REPARTITION_BY_NUM, [plan_id=35]\n",
      "            +- *(1) Project [cast(ds#0 as timestamp) AS ds#6, cast(y#1L as int) AS y#11, cast(역명라벨#2L as int) AS 역명라벨#15]\n",
      "               +- *(1) ColumnarToRow\n",
      "                  +- FileScan parquet [ds#0,y#1L,역명라벨#2L] Batched: true, DataFilters: [], Format: Parquet, Location: InMemoryFileIndex(1 paths)[file:/content/my.parquet], PartitionFilters: [], PushedFilters: [], ReadSchema: struct<ds:string,y:bigint,역명라벨:bigint>\n",
      "\n",
      "\n"
     ]
    }
   ],
   "source": [
    "# 데이터 분할 \n",
    "df_pyspark.createOrReplaceTempView(\"item_sales\") \n",
    "sql = \"select * from item_sales\" \n",
    "sales_part = (spark.sql(sql)\n",
    "   .repartition(spark.sparkContext.defaultParallelism, \n",
    "   ['역명라벨'])).cache( ) \n",
    "sales_part.explain()"
   ]
  },
  {
   "cell_type": "code",
   "execution_count": null,
   "metadata": {
    "id": "9drHwQcanx84"
   },
   "outputs": [],
   "source": [
    "# 데이터 분할 \n",
    "df_pyspark.createOrReplaceTempView(\"item_sales\") \n",
    "sql = \"select * from item_sales\" \n",
    "sales_part = (spark.sql(sql)\n",
    "   .repartition(spark.sparkContext.defaultParallelism, \n",
    "   ['역명라벨']))   # 위에거에서 .cache()만 뺀거임 \n",
    "sales_part.explain()"
   ]
  },
  {
   "cell_type": "code",
   "execution_count": null,
   "metadata": {
    "id": "87EkSRKgE55c"
   },
   "outputs": [],
   "source": [
    "schema = StructType([\n",
    "                     StructField('역명라벨', IntegerType()),\n",
    "                     StructField('ds', TimestampType()),\n",
    "                     StructField('y', IntegerType()),                                       \n",
    "                     StructField('yhat', DoubleType()), \n",
    "                     StructField('yhat_upper', DoubleType()), \n",
    "                     StructField('yhat_lower', DoubleType()),\n",
    "                     \n",
    "])"
   ]
  },
  {
   "cell_type": "code",
   "execution_count": null,
   "metadata": {
    "id": "vr9Lw6lpQiR1"
   },
   "outputs": [],
   "source": [
    "@pandas_udf(schema, PandasUDFType.GROUPED_MAP)\n",
    "def forecast_store_item(history_pd):\n",
    "  model = Prophet() # 모델 인스턴스 선언 \n",
    "  model.fit(history_pd) # 모델 생성 \n",
    "\n",
    "  future = model.make_future_dataframe(periods=1000, freq='H') #100개 예측 \n",
    "  forecast = model.predict(future) # 예측 결과 생성 \n",
    "\n",
    "\n",
    "  f_pd = forecast[['ds', 'yhat','yhat_upper','yhat_lower']] \n",
    "  st_pd = history_pd[['ds', '역명라벨', 'y',]] \n",
    "  result_pd = f_pd.join(st_pd.set_index('ds'), on='ds', how='left')\n",
    "  # 저장소 및 항목 채우기 \n",
    "  result_pd['역명라벨'] = history_pd['역명라벨'].iloc[0]\n",
    "  return result_pd[['역명라벨', 'ds', 'y', 'yhat',\n",
    "                    'yhat_upper','yhat_lower']]"
   ]
  },
  {
   "cell_type": "code",
   "execution_count": null,
   "metadata": {
    "colab": {
     "base_uri": "https://localhost:8080/"
    },
    "executionInfo": {
     "elapsed": 21262,
     "status": "ok",
     "timestamp": 1672130655727,
     "user": {
      "displayName": "김재민",
      "userId": "14133616262020169823"
     },
     "user_tz": -540
    },
    "id": "LYeIn1PfF7f6",
    "outputId": "a4052d29-4ce7-4ca3-f4aa-598f9672b963"
   },
   "outputs": [
    {
     "name": "stderr",
     "output_type": "stream",
     "text": [
      "/usr/local/lib/python3.8/dist-packages/pyspark/sql/pandas/group_ops.py:98: UserWarning: It is preferred to use 'applyInPandas' over this API. This API will be deprecated in the future releases. See SPARK-28264 for more details.\n",
      "  warnings.warn(\n"
     ]
    },
    {
     "name": "stdout",
     "output_type": "stream",
     "text": [
      "+--------+-------------------+----+-------------------+------------------+-------------------+\n",
      "|역명라벨|                 ds|   y|               yhat|        yhat_upper|         yhat_lower|\n",
      "+--------+-------------------+----+-------------------+------------------+-------------------+\n",
      "|       2|2022-01-01 05:00:00|  96|-314.68579640045687|1921.7009872904907|-2691.1485053321926|\n",
      "|       2|2022-01-01 06:00:00|  97|  553.1670255061066| 2731.191249092613|-1709.5763578195913|\n",
      "|       2|2022-01-01 07:00:00| 143|  643.8507506636947| 3018.208084040989|-1538.0250872455354|\n",
      "|       2|2022-01-01 08:00:00| 182|  142.0442197781815| 2286.719892255288| -2079.855402723616|\n",
      "|       2|2022-01-01 09:00:00| 250|-209.21076438643945|2053.2868980214553| -2382.650824706946|\n",
      "|       2|2022-01-01 10:00:00| 290|  16.34524175902493|2154.3376392897085| -2239.565059748603|\n",
      "|       2|2022-01-01 11:00:00| 396|  467.1672180442106| 2769.066246369253|-1721.8580819714323|\n",
      "|       2|2022-01-01 12:00:00| 502|  472.2864969951862| 2773.795444015316|-1774.1027083926351|\n",
      "|       2|2022-01-01 13:00:00| 593| -76.10205344929363|2118.4919930013302|-2335.1902238026178|\n",
      "|       2|2022-01-01 14:00:00| 671| -404.8184990268787|1717.5259653986664| -2778.124313660294|\n",
      "|       2|2022-01-01 15:00:00| 824| 453.68364028933024|2776.9103381845307|-1785.8162979687843|\n",
      "|       2|2022-01-01 16:00:00|1041| 2587.0079943748206| 4761.815026962431| 315.67650589467064|\n",
      "|       2|2022-01-01 17:00:00|1000|  4839.831812026744| 7164.909714640526| 2613.5241955244655|\n",
      "|       2|2022-01-01 18:00:00| 852| 5637.0951084969965| 7986.173315434619|  3558.609537571331|\n",
      "|       2|2022-01-01 19:00:00| 646|  4314.429939922221| 6451.885520559167| 1854.2507223839484|\n",
      "|       2|2022-01-01 20:00:00| 593|  1729.314480577777|3993.7883155461705|-433.48336900637213|\n",
      "|       2|2022-01-01 21:00:00| 616| -445.7644723595795|1770.4794704652052| -2875.369062041232|\n",
      "|       2|2022-01-01 22:00:00| 229|-1122.4686566469493|1150.7243225079847|-3307.9876178371487|\n",
      "|       2|2022-01-01 23:00:00|  60|  -616.958893703584|1585.5950175418984|-2806.0807705350644|\n",
      "|       2|2022-01-02 05:00:00|  56| -1865.013379734389|255.78680498703764| -4229.439393332996|\n",
      "+--------+-------------------+----+-------------------+------------------+-------------------+\n",
      "only showing top 20 rows\n",
      "\n"
     ]
    }
   ],
   "source": [
    "  # 모든 역에 함수를 적용 \n",
    "results = sales_part.groupby(['역명라벨']).apply(forecast_store_item)\n",
    "\n",
    "start = timeit.default_timer() \n",
    "results.show() \n",
    "stop = timeit.default_timer()"
   ]
  },
  {
   "cell_type": "code",
   "execution_count": null,
   "metadata": {
    "colab": {
     "base_uri": "https://localhost:8080/"
    },
    "executionInfo": {
     "elapsed": 281,
     "status": "ok",
     "timestamp": 1672130705811,
     "user": {
      "displayName": "김재민",
      "userId": "14133616262020169823"
     },
     "user_tz": -540
    },
    "id": "-oaeaWdWGKU4",
    "outputId": "cccc33b2-ad14-4aa4-ee66-f3fe0b71d649"
   },
   "outputs": [
    {
     "name": "stdout",
     "output_type": "stream",
     "text": [
      "Time:  20.78976538099994\n"
     ]
    }
   ],
   "source": [
    "print('Time: ', stop - start)"
   ]
  },
  {
   "cell_type": "code",
   "execution_count": null,
   "metadata": {
    "id": "LJoMyORVojbW"
   },
   "outputs": [],
   "source": [
    "import fastparquet"
   ]
  },
  {
   "cell_type": "code",
   "execution_count": null,
   "metadata": {
    "id": "VbhrDM_YOkmb"
   },
   "outputs": [],
   "source": [
    "results.filter(results['ds']>\"2022-09-01\").write.parquet(\"results.parquet\")"
   ]
  },
  {
   "cell_type": "code",
   "execution_count": null,
   "metadata": {
    "id": "pqyPIzEMOkg_"
   },
   "outputs": [],
   "source": [
    "results.filter(results['ds']>\"2022-09-01\").write.csv(\"results.csv\")"
   ]
  },
  {
   "cell_type": "code",
   "execution_count": null,
   "metadata": {
    "id": "KNTLcH456gYW"
   },
   "outputs": [],
   "source": [
    "a = pd.read_parquet('results.parquet')"
   ]
  },
  {
   "cell_type": "code",
   "execution_count": null,
   "metadata": {
    "id": "JlzTUok66gVG"
   },
   "outputs": [],
   "source": [
    "a.to_csv('ss.csv', index=False)"
   ]
  },
  {
   "cell_type": "code",
   "execution_count": 19,
   "metadata": {
    "executionInfo": {
     "elapsed": 1655,
     "status": "ok",
     "timestamp": 1672207020652,
     "user": {
      "displayName": "김재민",
      "userId": "14133616262020169823"
     },
     "user_tz": -540
    },
    "id": "49ziFDy3LGJm"
   },
   "outputs": [],
   "source": [
    "data = \"/content/drive/MyDrive/Colab Notebooks/엔지어드브/\"\n",
    "result=pd.read_csv(f'{data}결과.csv')\n",
    "label=pd.read_csv(f'{data}역명라벨.csv')"
   ]
  },
  {
   "cell_type": "code",
   "execution_count": 20,
   "metadata": {
    "colab": {
     "base_uri": "https://localhost:8080/"
    },
    "executionInfo": {
     "elapsed": 9,
     "status": "ok",
     "timestamp": 1672207049016,
     "user": {
      "displayName": "김재민",
      "userId": "14133616262020169823"
     },
     "user_tz": -540
    },
    "id": "YW0eEWYbTjpr",
    "outputId": "f6aa92be-24f2-4a60-e06b-c0c87096579e"
   },
   "outputs": [
    {
     "data": {
      "text/plain": [
       "5    258552\n",
       "2    230850\n",
       "7    194009\n",
       "6    171931\n",
       "3    154299\n",
       "4    120042\n",
       "8     83106\n",
       "1     46170\n",
       "Name: 호선, dtype: int64"
      ]
     },
     "execution_count": 20,
     "metadata": {},
     "output_type": "execute_result"
    }
   ],
   "source": [
    "label.호선.value_counts()"
   ]
  },
  {
   "cell_type": "code",
   "execution_count": null,
   "metadata": {
    "colab": {
     "base_uri": "https://localhost:8080/",
     "height": 206
    },
    "executionInfo": {
     "elapsed": 288,
     "status": "ok",
     "timestamp": 1672205463812,
     "user": {
      "displayName": "김재민",
      "userId": "14133616262020169823"
     },
     "user_tz": -540
    },
    "id": "hf8jlRf0LGGg",
    "outputId": "13fc7a95-5f37-4a0d-bc24-93da32afc639"
   },
   "outputs": [
    {
     "data": {
      "text/html": [
       "\n",
       "  <div id=\"df-13572ecb-a25e-4643-92bf-d66d39790ca5\">\n",
       "    <div class=\"colab-df-container\">\n",
       "      <div>\n",
       "<style scoped>\n",
       "    .dataframe tbody tr th:only-of-type {\n",
       "        vertical-align: middle;\n",
       "    }\n",
       "\n",
       "    .dataframe tbody tr th {\n",
       "        vertical-align: top;\n",
       "    }\n",
       "\n",
       "    .dataframe thead th {\n",
       "        text-align: right;\n",
       "    }\n",
       "</style>\n",
       "<table border=\"1\" class=\"dataframe\">\n",
       "  <thead>\n",
       "    <tr style=\"text-align: right;\">\n",
       "      <th></th>\n",
       "      <th>수송일자</th>\n",
       "      <th>인원</th>\n",
       "      <th>호선</th>\n",
       "      <th>역명</th>\n",
       "      <th>역명라벨</th>\n",
       "    </tr>\n",
       "  </thead>\n",
       "  <tbody>\n",
       "    <tr>\n",
       "      <th>0</th>\n",
       "      <td>2022-01-01 05:00:00</td>\n",
       "      <td>120</td>\n",
       "      <td>1</td>\n",
       "      <td>서울역 1</td>\n",
       "      <td>136</td>\n",
       "    </tr>\n",
       "    <tr>\n",
       "      <th>1</th>\n",
       "      <td>2022-01-01 05:00:00</td>\n",
       "      <td>21</td>\n",
       "      <td>5</td>\n",
       "      <td>하남풍산 5</td>\n",
       "      <td>262</td>\n",
       "    </tr>\n",
       "    <tr>\n",
       "      <th>2</th>\n",
       "      <td>2022-01-01 05:00:00</td>\n",
       "      <td>59</td>\n",
       "      <td>5</td>\n",
       "      <td>하남시청(덕풍·신장) 5</td>\n",
       "      <td>261</td>\n",
       "    </tr>\n",
       "    <tr>\n",
       "      <th>3</th>\n",
       "      <td>2022-01-01 05:00:00</td>\n",
       "      <td>56</td>\n",
       "      <td>5</td>\n",
       "      <td>하남검단산 5</td>\n",
       "      <td>260</td>\n",
       "    </tr>\n",
       "    <tr>\n",
       "      <th>4</th>\n",
       "      <td>2022-01-01 05:00:00</td>\n",
       "      <td>152</td>\n",
       "      <td>6</td>\n",
       "      <td>응암 6</td>\n",
       "      <td>215</td>\n",
       "    </tr>\n",
       "  </tbody>\n",
       "</table>\n",
       "</div>\n",
       "      <button class=\"colab-df-convert\" onclick=\"convertToInteractive('df-13572ecb-a25e-4643-92bf-d66d39790ca5')\"\n",
       "              title=\"Convert this dataframe to an interactive table.\"\n",
       "              style=\"display:none;\">\n",
       "        \n",
       "  <svg xmlns=\"http://www.w3.org/2000/svg\" height=\"24px\"viewBox=\"0 0 24 24\"\n",
       "       width=\"24px\">\n",
       "    <path d=\"M0 0h24v24H0V0z\" fill=\"none\"/>\n",
       "    <path d=\"M18.56 5.44l.94 2.06.94-2.06 2.06-.94-2.06-.94-.94-2.06-.94 2.06-2.06.94zm-11 1L8.5 8.5l.94-2.06 2.06-.94-2.06-.94L8.5 2.5l-.94 2.06-2.06.94zm10 10l.94 2.06.94-2.06 2.06-.94-2.06-.94-.94-2.06-.94 2.06-2.06.94z\"/><path d=\"M17.41 7.96l-1.37-1.37c-.4-.4-.92-.59-1.43-.59-.52 0-1.04.2-1.43.59L10.3 9.45l-7.72 7.72c-.78.78-.78 2.05 0 2.83L4 21.41c.39.39.9.59 1.41.59.51 0 1.02-.2 1.41-.59l7.78-7.78 2.81-2.81c.8-.78.8-2.07 0-2.86zM5.41 20L4 18.59l7.72-7.72 1.47 1.35L5.41 20z\"/>\n",
       "  </svg>\n",
       "      </button>\n",
       "      \n",
       "  <style>\n",
       "    .colab-df-container {\n",
       "      display:flex;\n",
       "      flex-wrap:wrap;\n",
       "      gap: 12px;\n",
       "    }\n",
       "\n",
       "    .colab-df-convert {\n",
       "      background-color: #E8F0FE;\n",
       "      border: none;\n",
       "      border-radius: 50%;\n",
       "      cursor: pointer;\n",
       "      display: none;\n",
       "      fill: #1967D2;\n",
       "      height: 32px;\n",
       "      padding: 0 0 0 0;\n",
       "      width: 32px;\n",
       "    }\n",
       "\n",
       "    .colab-df-convert:hover {\n",
       "      background-color: #E2EBFA;\n",
       "      box-shadow: 0px 1px 2px rgba(60, 64, 67, 0.3), 0px 1px 3px 1px rgba(60, 64, 67, 0.15);\n",
       "      fill: #174EA6;\n",
       "    }\n",
       "\n",
       "    [theme=dark] .colab-df-convert {\n",
       "      background-color: #3B4455;\n",
       "      fill: #D2E3FC;\n",
       "    }\n",
       "\n",
       "    [theme=dark] .colab-df-convert:hover {\n",
       "      background-color: #434B5C;\n",
       "      box-shadow: 0px 1px 3px 1px rgba(0, 0, 0, 0.15);\n",
       "      filter: drop-shadow(0px 1px 2px rgba(0, 0, 0, 0.3));\n",
       "      fill: #FFFFFF;\n",
       "    }\n",
       "  </style>\n",
       "\n",
       "      <script>\n",
       "        const buttonEl =\n",
       "          document.querySelector('#df-13572ecb-a25e-4643-92bf-d66d39790ca5 button.colab-df-convert');\n",
       "        buttonEl.style.display =\n",
       "          google.colab.kernel.accessAllowed ? 'block' : 'none';\n",
       "\n",
       "        async function convertToInteractive(key) {\n",
       "          const element = document.querySelector('#df-13572ecb-a25e-4643-92bf-d66d39790ca5');\n",
       "          const dataTable =\n",
       "            await google.colab.kernel.invokeFunction('convertToInteractive',\n",
       "                                                     [key], {});\n",
       "          if (!dataTable) return;\n",
       "\n",
       "          const docLinkHtml = 'Like what you see? Visit the ' +\n",
       "            '<a target=\"_blank\" href=https://colab.research.google.com/notebooks/data_table.ipynb>data table notebook</a>'\n",
       "            + ' to learn more about interactive tables.';\n",
       "          element.innerHTML = '';\n",
       "          dataTable['output_type'] = 'display_data';\n",
       "          await google.colab.output.renderOutput(dataTable, element);\n",
       "          const docLink = document.createElement('div');\n",
       "          docLink.innerHTML = docLinkHtml;\n",
       "          element.appendChild(docLink);\n",
       "        }\n",
       "      </script>\n",
       "    </div>\n",
       "  </div>\n",
       "  "
      ],
      "text/plain": [
       "                  수송일자   인원  호선             역명  역명라벨\n",
       "0  2022-01-01 05:00:00  120   1          서울역 1   136\n",
       "1  2022-01-01 05:00:00   21   5         하남풍산 5   262\n",
       "2  2022-01-01 05:00:00   59   5  하남시청(덕풍·신장) 5   261\n",
       "3  2022-01-01 05:00:00   56   5        하남검단산 5   260\n",
       "4  2022-01-01 05:00:00  152   6           응암 6   215"
      ]
     },
     "execution_count": 13,
     "metadata": {},
     "output_type": "execute_result"
    }
   ],
   "source": [
    "label.head()"
   ]
  },
  {
   "cell_type": "code",
   "execution_count": null,
   "metadata": {
    "id": "oZF3KjOpM9KW"
   },
   "outputs": [],
   "source": [
    "label = label[['역명', '역명라벨']]"
   ]
  },
  {
   "cell_type": "code",
   "execution_count": null,
   "metadata": {
    "colab": {
     "base_uri": "https://localhost:8080/",
     "height": 424
    },
    "executionInfo": {
     "elapsed": 431,
     "status": "ok",
     "timestamp": 1672205509984,
     "user": {
      "displayName": "김재민",
      "userId": "14133616262020169823"
     },
     "user_tz": -540
    },
    "id": "yrxja_TvAxcV",
    "outputId": "85ae57ad-0c10-4f38-d9db-a52bbc8e2d6e"
   },
   "outputs": [
    {
     "data": {
      "text/html": [
       "\n",
       "  <div id=\"df-32cea26f-f32b-4980-a603-7162309c2fdc\">\n",
       "    <div class=\"colab-df-container\">\n",
       "      <div>\n",
       "<style scoped>\n",
       "    .dataframe tbody tr th:only-of-type {\n",
       "        vertical-align: middle;\n",
       "    }\n",
       "\n",
       "    .dataframe tbody tr th {\n",
       "        vertical-align: top;\n",
       "    }\n",
       "\n",
       "    .dataframe thead th {\n",
       "        text-align: right;\n",
       "    }\n",
       "</style>\n",
       "<table border=\"1\" class=\"dataframe\">\n",
       "  <thead>\n",
       "    <tr style=\"text-align: right;\">\n",
       "      <th></th>\n",
       "      <th>역명</th>\n",
       "      <th>역명라벨</th>\n",
       "    </tr>\n",
       "  </thead>\n",
       "  <tbody>\n",
       "    <tr>\n",
       "      <th>0</th>\n",
       "      <td>가락시장 3</td>\n",
       "      <td>0</td>\n",
       "    </tr>\n",
       "    <tr>\n",
       "      <th>1</th>\n",
       "      <td>가락시장 8</td>\n",
       "      <td>1</td>\n",
       "    </tr>\n",
       "    <tr>\n",
       "      <th>2</th>\n",
       "      <td>가산디지털단지 7</td>\n",
       "      <td>2</td>\n",
       "    </tr>\n",
       "    <tr>\n",
       "      <th>3</th>\n",
       "      <td>강남 2</td>\n",
       "      <td>3</td>\n",
       "    </tr>\n",
       "    <tr>\n",
       "      <th>4</th>\n",
       "      <td>강남구청 7</td>\n",
       "      <td>4</td>\n",
       "    </tr>\n",
       "    <tr>\n",
       "      <th>...</th>\n",
       "      <td>...</td>\n",
       "      <td>...</td>\n",
       "    </tr>\n",
       "    <tr>\n",
       "      <th>273</th>\n",
       "      <td>홍제 3</td>\n",
       "      <td>273</td>\n",
       "    </tr>\n",
       "    <tr>\n",
       "      <th>274</th>\n",
       "      <td>화곡 5</td>\n",
       "      <td>274</td>\n",
       "    </tr>\n",
       "    <tr>\n",
       "      <th>275</th>\n",
       "      <td>화랑대(서울여대입구) 6</td>\n",
       "      <td>275</td>\n",
       "    </tr>\n",
       "    <tr>\n",
       "      <th>276</th>\n",
       "      <td>회현(남대문시장) 4</td>\n",
       "      <td>276</td>\n",
       "    </tr>\n",
       "    <tr>\n",
       "      <th>277</th>\n",
       "      <td>효창공원앞 6</td>\n",
       "      <td>277</td>\n",
       "    </tr>\n",
       "  </tbody>\n",
       "</table>\n",
       "<p>278 rows × 2 columns</p>\n",
       "</div>\n",
       "      <button class=\"colab-df-convert\" onclick=\"convertToInteractive('df-32cea26f-f32b-4980-a603-7162309c2fdc')\"\n",
       "              title=\"Convert this dataframe to an interactive table.\"\n",
       "              style=\"display:none;\">\n",
       "        \n",
       "  <svg xmlns=\"http://www.w3.org/2000/svg\" height=\"24px\"viewBox=\"0 0 24 24\"\n",
       "       width=\"24px\">\n",
       "    <path d=\"M0 0h24v24H0V0z\" fill=\"none\"/>\n",
       "    <path d=\"M18.56 5.44l.94 2.06.94-2.06 2.06-.94-2.06-.94-.94-2.06-.94 2.06-2.06.94zm-11 1L8.5 8.5l.94-2.06 2.06-.94-2.06-.94L8.5 2.5l-.94 2.06-2.06.94zm10 10l.94 2.06.94-2.06 2.06-.94-2.06-.94-.94-2.06-.94 2.06-2.06.94z\"/><path d=\"M17.41 7.96l-1.37-1.37c-.4-.4-.92-.59-1.43-.59-.52 0-1.04.2-1.43.59L10.3 9.45l-7.72 7.72c-.78.78-.78 2.05 0 2.83L4 21.41c.39.39.9.59 1.41.59.51 0 1.02-.2 1.41-.59l7.78-7.78 2.81-2.81c.8-.78.8-2.07 0-2.86zM5.41 20L4 18.59l7.72-7.72 1.47 1.35L5.41 20z\"/>\n",
       "  </svg>\n",
       "      </button>\n",
       "      \n",
       "  <style>\n",
       "    .colab-df-container {\n",
       "      display:flex;\n",
       "      flex-wrap:wrap;\n",
       "      gap: 12px;\n",
       "    }\n",
       "\n",
       "    .colab-df-convert {\n",
       "      background-color: #E8F0FE;\n",
       "      border: none;\n",
       "      border-radius: 50%;\n",
       "      cursor: pointer;\n",
       "      display: none;\n",
       "      fill: #1967D2;\n",
       "      height: 32px;\n",
       "      padding: 0 0 0 0;\n",
       "      width: 32px;\n",
       "    }\n",
       "\n",
       "    .colab-df-convert:hover {\n",
       "      background-color: #E2EBFA;\n",
       "      box-shadow: 0px 1px 2px rgba(60, 64, 67, 0.3), 0px 1px 3px 1px rgba(60, 64, 67, 0.15);\n",
       "      fill: #174EA6;\n",
       "    }\n",
       "\n",
       "    [theme=dark] .colab-df-convert {\n",
       "      background-color: #3B4455;\n",
       "      fill: #D2E3FC;\n",
       "    }\n",
       "\n",
       "    [theme=dark] .colab-df-convert:hover {\n",
       "      background-color: #434B5C;\n",
       "      box-shadow: 0px 1px 3px 1px rgba(0, 0, 0, 0.15);\n",
       "      filter: drop-shadow(0px 1px 2px rgba(0, 0, 0, 0.3));\n",
       "      fill: #FFFFFF;\n",
       "    }\n",
       "  </style>\n",
       "\n",
       "      <script>\n",
       "        const buttonEl =\n",
       "          document.querySelector('#df-32cea26f-f32b-4980-a603-7162309c2fdc button.colab-df-convert');\n",
       "        buttonEl.style.display =\n",
       "          google.colab.kernel.accessAllowed ? 'block' : 'none';\n",
       "\n",
       "        async function convertToInteractive(key) {\n",
       "          const element = document.querySelector('#df-32cea26f-f32b-4980-a603-7162309c2fdc');\n",
       "          const dataTable =\n",
       "            await google.colab.kernel.invokeFunction('convertToInteractive',\n",
       "                                                     [key], {});\n",
       "          if (!dataTable) return;\n",
       "\n",
       "          const docLinkHtml = 'Like what you see? Visit the ' +\n",
       "            '<a target=\"_blank\" href=https://colab.research.google.com/notebooks/data_table.ipynb>data table notebook</a>'\n",
       "            + ' to learn more about interactive tables.';\n",
       "          element.innerHTML = '';\n",
       "          dataTable['output_type'] = 'display_data';\n",
       "          await google.colab.output.renderOutput(dataTable, element);\n",
       "          const docLink = document.createElement('div');\n",
       "          docLink.innerHTML = docLinkHtml;\n",
       "          element.appendChild(docLink);\n",
       "        }\n",
       "      </script>\n",
       "    </div>\n",
       "  </div>\n",
       "  "
      ],
      "text/plain": [
       "                역명  역명라벨\n",
       "0           가락시장 3     0\n",
       "1           가락시장 8     1\n",
       "2        가산디지털단지 7     2\n",
       "3             강남 2     3\n",
       "4           강남구청 7     4\n",
       "..             ...   ...\n",
       "273           홍제 3   273\n",
       "274           화곡 5   274\n",
       "275  화랑대(서울여대입구) 6   275\n",
       "276    회현(남대문시장) 4   276\n",
       "277        효창공원앞 6   277\n",
       "\n",
       "[278 rows x 2 columns]"
      ]
     },
     "execution_count": 18,
     "metadata": {},
     "output_type": "execute_result"
    }
   ],
   "source": [
    "label.groupby(['역명', '역명라벨'], as_index=False).mean()"
   ]
  },
  {
   "cell_type": "code",
   "execution_count": null,
   "metadata": {
    "id": "zLlW4OuwRakb"
   },
   "outputs": [],
   "source": []
  },
  {
   "cell_type": "code",
   "execution_count": null,
   "metadata": {
    "id": "3lBUSYMcRaVT"
   },
   "outputs": [],
   "source": []
  },
  {
   "cell_type": "code",
   "execution_count": null,
   "metadata": {
    "id": "Evh4AkJcRaTM"
   },
   "outputs": [],
   "source": []
  },
  {
   "cell_type": "code",
   "execution_count": null,
   "metadata": {
    "id": "BZySGVvUAxSp"
   },
   "outputs": [],
   "source": []
  },
  {
   "cell_type": "code",
   "execution_count": null,
   "metadata": {
    "id": "ZhYaExOPAxQQ"
   },
   "outputs": [],
   "source": []
  },
  {
   "cell_type": "code",
   "execution_count": null,
   "metadata": {
    "id": "wG_73_ta1H4v"
   },
   "outputs": [],
   "source": [
    "results.write.parquet(\"results.parquet\")"
   ]
  },
  {
   "cell_type": "code",
   "execution_count": null,
   "metadata": {
    "id": "Mo-M-Hlh1yb7"
   },
   "outputs": [],
   "source": [
    "a = pd.read_parquet('results.parquet')"
   ]
  },
  {
   "cell_type": "code",
   "execution_count": null,
   "metadata": {
    "id": "LDaY-L4cJwwu"
   },
   "outputs": [],
   "source": [
    "a.to_csv('프로펫_결과.csv', index = False)"
   ]
  },
  {
   "cell_type": "code",
   "execution_count": null,
   "metadata": {
    "colab": {
     "base_uri": "https://localhost:8080/",
     "height": 424
    },
    "executionInfo": {
     "elapsed": 272,
     "status": "ok",
     "timestamp": 1669797099086,
     "user": {
      "displayName": "김재민",
      "userId": "14133616262020169823"
     },
     "user_tz": -540
    },
    "id": "Q0NAv8RKH0vN",
    "outputId": "5f518dcd-98da-4113-bc83-94bf8565a308"
   },
   "outputs": [
    {
     "data": {
      "text/html": [
       "\n",
       "  <div id=\"df-ca59da81-8992-4f3f-bb5b-8cf8cc1a6b23\">\n",
       "    <div class=\"colab-df-container\">\n",
       "      <div>\n",
       "<style scoped>\n",
       "    .dataframe tbody tr th:only-of-type {\n",
       "        vertical-align: middle;\n",
       "    }\n",
       "\n",
       "    .dataframe tbody tr th {\n",
       "        vertical-align: top;\n",
       "    }\n",
       "\n",
       "    .dataframe thead th {\n",
       "        text-align: right;\n",
       "    }\n",
       "</style>\n",
       "<table border=\"1\" class=\"dataframe\">\n",
       "  <thead>\n",
       "    <tr style=\"text-align: right;\">\n",
       "      <th></th>\n",
       "      <th>역명라벨</th>\n",
       "      <th>ds</th>\n",
       "      <th>y</th>\n",
       "      <th>yhat</th>\n",
       "      <th>yhat_upper</th>\n",
       "      <th>yhat_lower</th>\n",
       "    </tr>\n",
       "  </thead>\n",
       "  <tbody>\n",
       "    <tr>\n",
       "      <th>0</th>\n",
       "      <td>2</td>\n",
       "      <td>2022-09-01 01:00:00</td>\n",
       "      <td>NaN</td>\n",
       "      <td>1334.091434</td>\n",
       "      <td>3558.722521</td>\n",
       "      <td>-821.181577</td>\n",
       "    </tr>\n",
       "    <tr>\n",
       "      <th>1</th>\n",
       "      <td>2</td>\n",
       "      <td>2022-09-01 02:00:00</td>\n",
       "      <td>NaN</td>\n",
       "      <td>73.668543</td>\n",
       "      <td>2437.646744</td>\n",
       "      <td>-2126.227771</td>\n",
       "    </tr>\n",
       "    <tr>\n",
       "      <th>2</th>\n",
       "      <td>2</td>\n",
       "      <td>2022-09-01 03:00:00</td>\n",
       "      <td>NaN</td>\n",
       "      <td>-876.687413</td>\n",
       "      <td>1188.862273</td>\n",
       "      <td>-3054.307237</td>\n",
       "    </tr>\n",
       "    <tr>\n",
       "      <th>3</th>\n",
       "      <td>2</td>\n",
       "      <td>2022-09-01 04:00:00</td>\n",
       "      <td>NaN</td>\n",
       "      <td>-725.091121</td>\n",
       "      <td>1597.869822</td>\n",
       "      <td>-3103.098117</td>\n",
       "    </tr>\n",
       "    <tr>\n",
       "      <th>4</th>\n",
       "      <td>2</td>\n",
       "      <td>2022-09-01 05:00:00</td>\n",
       "      <td>NaN</td>\n",
       "      <td>299.721499</td>\n",
       "      <td>2442.492286</td>\n",
       "      <td>-1925.323339</td>\n",
       "    </tr>\n",
       "    <tr>\n",
       "      <th>...</th>\n",
       "      <td>...</td>\n",
       "      <td>...</td>\n",
       "      <td>...</td>\n",
       "      <td>...</td>\n",
       "      <td>...</td>\n",
       "      <td>...</td>\n",
       "    </tr>\n",
       "    <tr>\n",
       "      <th>277357</th>\n",
       "      <td>277</td>\n",
       "      <td>2022-10-12 11:00:00</td>\n",
       "      <td>NaN</td>\n",
       "      <td>302.819021</td>\n",
       "      <td>490.270967</td>\n",
       "      <td>105.198462</td>\n",
       "    </tr>\n",
       "    <tr>\n",
       "      <th>277358</th>\n",
       "      <td>277</td>\n",
       "      <td>2022-10-12 12:00:00</td>\n",
       "      <td>NaN</td>\n",
       "      <td>284.978764</td>\n",
       "      <td>478.001987</td>\n",
       "      <td>91.125227</td>\n",
       "    </tr>\n",
       "    <tr>\n",
       "      <th>277359</th>\n",
       "      <td>277</td>\n",
       "      <td>2022-10-12 13:00:00</td>\n",
       "      <td>NaN</td>\n",
       "      <td>298.003567</td>\n",
       "      <td>501.137967</td>\n",
       "      <td>100.528416</td>\n",
       "    </tr>\n",
       "    <tr>\n",
       "      <th>277360</th>\n",
       "      <td>277</td>\n",
       "      <td>2022-10-12 14:00:00</td>\n",
       "      <td>NaN</td>\n",
       "      <td>314.274441</td>\n",
       "      <td>505.019149</td>\n",
       "      <td>115.747347</td>\n",
       "    </tr>\n",
       "    <tr>\n",
       "      <th>277361</th>\n",
       "      <td>277</td>\n",
       "      <td>2022-10-12 15:00:00</td>\n",
       "      <td>NaN</td>\n",
       "      <td>347.590316</td>\n",
       "      <td>549.647736</td>\n",
       "      <td>153.120273</td>\n",
       "    </tr>\n",
       "  </tbody>\n",
       "</table>\n",
       "<p>277362 rows × 6 columns</p>\n",
       "</div>\n",
       "      <button class=\"colab-df-convert\" onclick=\"convertToInteractive('df-ca59da81-8992-4f3f-bb5b-8cf8cc1a6b23')\"\n",
       "              title=\"Convert this dataframe to an interactive table.\"\n",
       "              style=\"display:none;\">\n",
       "        \n",
       "  <svg xmlns=\"http://www.w3.org/2000/svg\" height=\"24px\"viewBox=\"0 0 24 24\"\n",
       "       width=\"24px\">\n",
       "    <path d=\"M0 0h24v24H0V0z\" fill=\"none\"/>\n",
       "    <path d=\"M18.56 5.44l.94 2.06.94-2.06 2.06-.94-2.06-.94-.94-2.06-.94 2.06-2.06.94zm-11 1L8.5 8.5l.94-2.06 2.06-.94-2.06-.94L8.5 2.5l-.94 2.06-2.06.94zm10 10l.94 2.06.94-2.06 2.06-.94-2.06-.94-.94-2.06-.94 2.06-2.06.94z\"/><path d=\"M17.41 7.96l-1.37-1.37c-.4-.4-.92-.59-1.43-.59-.52 0-1.04.2-1.43.59L10.3 9.45l-7.72 7.72c-.78.78-.78 2.05 0 2.83L4 21.41c.39.39.9.59 1.41.59.51 0 1.02-.2 1.41-.59l7.78-7.78 2.81-2.81c.8-.78.8-2.07 0-2.86zM5.41 20L4 18.59l7.72-7.72 1.47 1.35L5.41 20z\"/>\n",
       "  </svg>\n",
       "      </button>\n",
       "      \n",
       "  <style>\n",
       "    .colab-df-container {\n",
       "      display:flex;\n",
       "      flex-wrap:wrap;\n",
       "      gap: 12px;\n",
       "    }\n",
       "\n",
       "    .colab-df-convert {\n",
       "      background-color: #E8F0FE;\n",
       "      border: none;\n",
       "      border-radius: 50%;\n",
       "      cursor: pointer;\n",
       "      display: none;\n",
       "      fill: #1967D2;\n",
       "      height: 32px;\n",
       "      padding: 0 0 0 0;\n",
       "      width: 32px;\n",
       "    }\n",
       "\n",
       "    .colab-df-convert:hover {\n",
       "      background-color: #E2EBFA;\n",
       "      box-shadow: 0px 1px 2px rgba(60, 64, 67, 0.3), 0px 1px 3px 1px rgba(60, 64, 67, 0.15);\n",
       "      fill: #174EA6;\n",
       "    }\n",
       "\n",
       "    [theme=dark] .colab-df-convert {\n",
       "      background-color: #3B4455;\n",
       "      fill: #D2E3FC;\n",
       "    }\n",
       "\n",
       "    [theme=dark] .colab-df-convert:hover {\n",
       "      background-color: #434B5C;\n",
       "      box-shadow: 0px 1px 3px 1px rgba(0, 0, 0, 0.15);\n",
       "      filter: drop-shadow(0px 1px 2px rgba(0, 0, 0, 0.3));\n",
       "      fill: #FFFFFF;\n",
       "    }\n",
       "  </style>\n",
       "\n",
       "      <script>\n",
       "        const buttonEl =\n",
       "          document.querySelector('#df-ca59da81-8992-4f3f-bb5b-8cf8cc1a6b23 button.colab-df-convert');\n",
       "        buttonEl.style.display =\n",
       "          google.colab.kernel.accessAllowed ? 'block' : 'none';\n",
       "\n",
       "        async function convertToInteractive(key) {\n",
       "          const element = document.querySelector('#df-ca59da81-8992-4f3f-bb5b-8cf8cc1a6b23');\n",
       "          const dataTable =\n",
       "            await google.colab.kernel.invokeFunction('convertToInteractive',\n",
       "                                                     [key], {});\n",
       "          if (!dataTable) return;\n",
       "\n",
       "          const docLinkHtml = 'Like what you see? Visit the ' +\n",
       "            '<a target=\"_blank\" href=https://colab.research.google.com/notebooks/data_table.ipynb>data table notebook</a>'\n",
       "            + ' to learn more about interactive tables.';\n",
       "          element.innerHTML = '';\n",
       "          dataTable['output_type'] = 'display_data';\n",
       "          await google.colab.output.renderOutput(dataTable, element);\n",
       "          const docLink = document.createElement('div');\n",
       "          docLink.innerHTML = docLinkHtml;\n",
       "          element.appendChild(docLink);\n",
       "        }\n",
       "      </script>\n",
       "    </div>\n",
       "  </div>\n",
       "  "
      ],
      "text/plain": [
       "        역명라벨                  ds   y         yhat   yhat_upper   yhat_lower\n",
       "0          2 2022-09-01 01:00:00 NaN  1334.091434  3558.722521  -821.181577\n",
       "1          2 2022-09-01 02:00:00 NaN    73.668543  2437.646744 -2126.227771\n",
       "2          2 2022-09-01 03:00:00 NaN  -876.687413  1188.862273 -3054.307237\n",
       "3          2 2022-09-01 04:00:00 NaN  -725.091121  1597.869822 -3103.098117\n",
       "4          2 2022-09-01 05:00:00 NaN   299.721499  2442.492286 -1925.323339\n",
       "...      ...                 ...  ..          ...          ...          ...\n",
       "277357   277 2022-10-12 11:00:00 NaN   302.819021   490.270967   105.198462\n",
       "277358   277 2022-10-12 12:00:00 NaN   284.978764   478.001987    91.125227\n",
       "277359   277 2022-10-12 13:00:00 NaN   298.003567   501.137967   100.528416\n",
       "277360   277 2022-10-12 14:00:00 NaN   314.274441   505.019149   115.747347\n",
       "277361   277 2022-10-12 15:00:00 NaN   347.590316   549.647736   153.120273\n",
       "\n",
       "[277362 rows x 6 columns]"
      ]
     },
     "execution_count": 71,
     "metadata": {},
     "output_type": "execute_result"
    }
   ],
   "source": [
    "a"
   ]
  },
  {
   "cell_type": "code",
   "execution_count": null,
   "metadata": {
    "id": "9tDprSBkH3eV"
   },
   "outputs": [],
   "source": [
    "def xx(x):\n",
    "  if x < 0:\n",
    "    return 0\n",
    "  else:\n",
    "    return x\n",
    "\n",
    "a['yy'] = a.yhat.apply(xx)"
   ]
  },
  {
   "cell_type": "code",
   "execution_count": null,
   "metadata": {
    "id": "oDvwJX0cIr-_"
   },
   "outputs": [],
   "source": [
    "aa =  a[a.y.isnull()==False]"
   ]
  },
  {
   "cell_type": "code",
   "execution_count": null,
   "metadata": {
    "id": "csUtyjFNIqII"
   },
   "outputs": [],
   "source": []
  },
  {
   "cell_type": "code",
   "execution_count": null,
   "metadata": {
    "colab": {
     "base_uri": "https://localhost:8080/"
    },
    "executionInfo": {
     "elapsed": 765,
     "status": "ok",
     "timestamp": 1669217924989,
     "user": {
      "displayName": "김재민",
      "userId": "14133616262020169823"
     },
     "user_tz": -540
    },
    "id": "I0ZphPoKIWNO",
    "outputId": "34f3471e-cbac-4684-c830-cc6cad599f00"
   },
   "outputs": [
    {
     "data": {
      "text/plain": [
       "232.0264592653489"
      ]
     },
     "execution_count": 163,
     "metadata": {},
     "output_type": "execute_result"
    }
   ],
   "source": [
    "from sklearn.metrics import mean_absolute_error\n",
    "mean_absolute_error(aa.y, aa.yy)"
   ]
  },
  {
   "cell_type": "code",
   "execution_count": null,
   "metadata": {
    "colab": {
     "base_uri": "https://localhost:8080/"
    },
    "executionInfo": {
     "elapsed": 16,
     "status": "ok",
     "timestamp": 1669217965254,
     "user": {
      "displayName": "김재민",
      "userId": "14133616262020169823"
     },
     "user_tz": -540
    },
    "id": "Yb92H9NAJHxk",
    "outputId": "66d160ac-1e69-4857-d3c4-a948ac81e4dd"
   },
   "outputs": [
    {
     "data": {
      "text/plain": [
       "212025.32586063718"
      ]
     },
     "execution_count": 165,
     "metadata": {},
     "output_type": "execute_result"
    }
   ],
   "source": [
    "from sklearn.metrics import mean_squared_error \n",
    "mean_squared_error(aa.y, aa.yy)"
   ]
  },
  {
   "cell_type": "code",
   "execution_count": null,
   "metadata": {
    "colab": {
     "base_uri": "https://localhost:8080/"
    },
    "executionInfo": {
     "elapsed": 6,
     "status": "ok",
     "timestamp": 1669218029776,
     "user": {
      "displayName": "김재민",
      "userId": "14133616262020169823"
     },
     "user_tz": -540
    },
    "id": "mh3pObaoJUpH",
    "outputId": "2629f794-2a69-4d2f-aff4-646d5c8d851f"
   },
   "outputs": [
    {
     "data": {
      "text/plain": [
       "460.4620786347527"
      ]
     },
     "execution_count": 168,
     "metadata": {},
     "output_type": "execute_result"
    }
   ],
   "source": [
    "import numpy as np\n",
    "MSE = mean_squared_error(aa.y, aa.yy) \n",
    "np.sqrt(MSE)"
   ]
  },
  {
   "cell_type": "code",
   "execution_count": null,
   "metadata": {
    "colab": {
     "base_uri": "https://localhost:8080/"
    },
    "executionInfo": {
     "elapsed": 9,
     "status": "ok",
     "timestamp": 1669218075036,
     "user": {
      "displayName": "김재민",
      "userId": "14133616262020169823"
     },
     "user_tz": -540
    },
    "id": "iIZpTVuWJUjX",
    "outputId": "b30aad76-8e2f-44b0-862a-966c6fd856ac"
   },
   "outputs": [
    {
     "data": {
      "text/plain": [
       "1.2330257988753675"
      ]
     },
     "execution_count": 170,
     "metadata": {},
     "output_type": "execute_result"
    }
   ],
   "source": [
    "from sklearn.metrics import mean_squared_log_error\n",
    "mean_squared_log_error(aa.y, aa.yy)"
   ]
  },
  {
   "cell_type": "code",
   "execution_count": null,
   "metadata": {
    "id": "TVeB6lUIJHsd"
   },
   "outputs": [],
   "source": []
  },
  {
   "cell_type": "code",
   "execution_count": null,
   "metadata": {
    "id": "i4YK0-hkBHa_"
   },
   "outputs": [],
   "source": [
    "https://kgw7401.tistory.com/m/74\n",
    "\n",
    "https://data-newbie.tistory.com/m/891"
   ]
  }
 ],
 "metadata": {
  "colab": {
   "authorship_tag": "ABX9TyOAf58UluIlWBTRJ5IHOmH9",
   "collapsed_sections": [
    "sRFkY3VcL8Oj"
   ],
   "provenance": [
    {
     "file_id": "1QSvk0jxdJ7hpGkA3PH5VmoKsA-wU-YAf",
     "timestamp": 1668662713257
    },
    {
     "file_id": "1qUJY3LOhT5DVsEc1zLJMT41OrC_hRwxl",
     "timestamp": 1668428874670
    }
   ]
  },
  "kernelspec": {
   "display_name": "Python 3 (ipykernel)",
   "language": "python",
   "name": "python3"
  },
  "language_info": {
   "codemirror_mode": {
    "name": "ipython",
    "version": 3
   },
   "file_extension": ".py",
   "mimetype": "text/x-python",
   "name": "python",
   "nbconvert_exporter": "python",
   "pygments_lexer": "ipython3",
   "version": "3.9.7"
  }
 },
 "nbformat": 4,
 "nbformat_minor": 1
}
