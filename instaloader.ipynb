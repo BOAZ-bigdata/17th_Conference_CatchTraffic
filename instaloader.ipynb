{
 "cells": [
  {
   "cell_type": "code",
   "execution_count": null,
   "metadata": {},
   "outputs": [],
   "source": [
    "#깃헙: https://github.com/instaloader/instaloader\n",
    "#공식 사이트: https://instaloader.github.io/\n",
    "#참고 블로그: https://martechwithme.com/download-instagram-posts-stories-hashtags-highlights-python/"
   ]
  },
  {
   "cell_type": "code",
   "execution_count": 1,
   "metadata": {
    "scrolled": true
   },
   "outputs": [],
   "source": [
    "# 버전은 4.9.5 이상으로 설치해야 오류 안남\n",
    "\n",
    "#pip install instaloader==4.9.5"
   ]
  },
  {
   "cell_type": "code",
   "execution_count": null,
   "metadata": {},
   "outputs": [],
   "source": [
    "# 로컬에서 돌려야 돌아감"
   ]
  },
  {
   "cell_type": "code",
   "execution_count": 9,
   "metadata": {},
   "outputs": [],
   "source": [
    "import instaloader"
   ]
  },
  {
   "cell_type": "code",
   "execution_count": 10,
   "metadata": {},
   "outputs": [],
   "source": [
    "from instaloader import *"
   ]
  },
  {
   "cell_type": "code",
   "execution_count": 12,
   "metadata": {
    "scrolled": true
   },
   "outputs": [],
   "source": [
    "# 다운로드할 때 사진이나 영상은 제외\n",
    "instance = instaloader.Instaloader(download_pictures=False,download_videos=False)\n",
    "\n",
    "# 인스타 로그인(일부 기능에 필요)\n",
    "instance.login(user=\"본인_인스타_아이디\",passwd=\"비밀번호\")"
   ]
  },
  {
   "cell_type": "code",
   "execution_count": 13,
   "metadata": {},
   "outputs": [
    {
     "name": "stdout",
     "output_type": "stream",
     "text": [
      "#맛집\\2022-09-27_07-30-03_UTC_profile_pic.jpg \n",
      "Retrieving pictures with hashtag #맛집...\n",
      "[1/2] [지연이 만나서  점심. 숑이들은 없지만 올만에 만나서…] json \n",
      "[2/2] [매일 놀고 싶은 안 어른..🫠  - - #셀카 #셀스…] json \n"
     ]
    }
   ],
   "source": [
    "# 맛집 해시태그 2개 다운로드\n",
    "instance.download_hashtag(hashtag=\"맛집\",max_count=2)"
   ]
  },
  {
   "cell_type": "code",
   "execution_count": 19,
   "metadata": {},
   "outputs": [
    {
     "name": "stdout",
     "output_type": "stream",
     "text": [
      "[술꾼님들 아지트 생겼어요 📢24시 연중무휴📢 무박3일…] json \n"
     ]
    },
    {
     "data": {
      "text/plain": [
       "True"
      ]
     },
     "execution_count": 19,
     "metadata": {},
     "output_type": "execute_result"
    }
   ],
   "source": [
    "# 게시물 하나 가져오기\n",
    "\n",
    "post = Post.from_shortcode(instance.context, \"CizLgMrLGug\")  \n",
    "# \"\": id값(https://www.instagram.com/p/' 이후 위치한 ID 값)\n",
    "instance.download_post(post,target=\"맛집\")  # target: 저장할 폴더 이름"
   ]
  },
  {
   "cell_type": "code",
   "execution_count": 26,
   "metadata": {},
   "outputs": [],
   "source": [
    "from itertools import dropwhile, takewhile"
   ]
  },
  {
   "cell_type": "code",
   "execution_count": null,
   "metadata": {},
   "outputs": [],
   "source": [
    "# 유저가 작성한 게시물 가져오기(날짜)\n",
    "\n",
    "from datetime import datetime\n",
    "\n",
    "profile = '유저아이디'\n",
    "p = Profile.from_username(instance.context,profile).get_posts()\n",
    "\n",
    "since = datetime(2022, 9, 22)\n",
    "until = datetime(2022, 7, 21)\n",
    "\n",
    "for post in takewhile(lambda a: a.date>until, dropwhile(lambda a: a.date>since, p)):\n",
    "    instance.download_post(post,profile)"
   ]
  },
  {
   "cell_type": "code",
   "execution_count": null,
   "metadata": {},
   "outputs": [],
   "source": [
    "# 유저가 작성한 모든 게시물 가져오기\n",
    "\n",
    "profile = '유저아이디'\n",
    "p = Profile.from_username(instance.context,profile)\n",
    "\n",
    "posts = sorted(p.get_posts(), key=lambda post: post.likes, reverse=True)\n",
    "\n",
    "for post in posts:\n",
    "    instance.download_post(post,profile)"
   ]
  },
  {
   "cell_type": "code",
   "execution_count": null,
   "metadata": {},
   "outputs": [],
   "source": [
    "# 일정 기간 동안의 해시태그 가져오기\n",
    "\n",
    "# Use parameters to save diffrent metadata\n",
    "L = instaloader.Instaloader(download_pictures=True,download_videos=False,download_comments=False,save_metadata=True)\n",
    "\n",
    "# User Query\n",
    "search = input(\"Enter Hashtag: \")\n",
    "limit = int(input(\"How many posts to download: \"))\n",
    "\n",
    "# Hashtag object\n",
    "hashtags = instaloader.Hashtag.from_name(L.context, search).get_posts()\n",
    "\n",
    "# Download Period\n",
    "SINCE = datetime(2022, 9, 1)\n",
    "UNTIL = datetime(2021, 3, 1)\n",
    "\n",
    "no_of_downloads = 0\n",
    "for post in takewhile(lambda p: p.date > UNTIL, dropwhile(lambda p: p.date > SINCE, hashtags)):\n",
    "    if no_of_downloads == limit:\n",
    "        break\n",
    "    print(post.date)\n",
    "    L.download_post(post, \"#\"+search)\n",
    "    no_of_downloads += 1"
   ]
  },
  {
   "cell_type": "code",
   "execution_count": null,
   "metadata": {},
   "outputs": [],
   "source": [
    "from datetime import datetime\n",
    "\n",
    "posts = Hashtag.from_name(instance.context, \"해시태그\").get_posts()\n",
    "\n",
    "SINCE = datetime(2022, 9, 10)  # further from today, inclusive\n",
    "UNTIL = datetime(2022, 5, 11)  # closer to today, not inclusive\n",
    "\n",
    "for post in takewhile(lambda a: a.date>UNTIL, dropwhile(lambda a: a.date>SINCE, posts)):\n",
    "    instance.download_post(post,'profile')"
   ]
  },
  {
   "cell_type": "code",
   "execution_count": null,
   "metadata": {},
   "outputs": [],
   "source": []
  },
  {
   "cell_type": "code",
   "execution_count": null,
   "metadata": {},
   "outputs": [],
   "source": []
  }
 ],
 "metadata": {
  "kernelspec": {
   "display_name": "Python 3",
   "language": "python",
   "name": "python3"
  },
  "language_info": {
   "codemirror_mode": {
    "name": "ipython",
    "version": 3
   },
   "file_extension": ".py",
   "mimetype": "text/x-python",
   "name": "python",
   "nbconvert_exporter": "python",
   "pygments_lexer": "ipython3",
   "version": "3.8.5"
  }
 },
 "nbformat": 4,
 "nbformat_minor": 4
}
